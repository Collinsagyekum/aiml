{
 "cells": [
  {
   "cell_type": "markdown",
   "id": "emerging-diagnosis",
   "metadata": {
    "id": "HXJ7MT8d9WJL"
   },
   "source": [
    "## Income Group Classification"
   ]
  },
  {
   "cell_type": "markdown",
   "id": "prostate-workplace",
   "metadata": {
    "id": "2pM66Y9j9WJQ"
   },
   "source": [
    "## Context \n",
    "DeltaSquare is an NGO that works with the Government on matters of social policy to bring about a change in the lives of underprivileged sections of society. They are tasked with coming up with a policy framework by looking at the data government got from WHO. You as a data scientist at DeltaSquare are tasked with solving this problem and sharing a proposal for the government. "
   ]
  },
  {
   "cell_type": "markdown",
   "id": "metallic-portugal",
   "metadata": {
    "id": "Z5BrK2Fo9WJS"
   },
   "source": [
    "### Objective\n",
    "\n",
    "1. What are the different factors that influence the income of an individual?\n",
    "\n",
    "2. To build a prediction model that can help the government formulate policies for the right pockets of the society."
   ]
  },
  {
   "cell_type": "markdown",
   "id": "noted-austria",
   "metadata": {
    "id": "WNvGGvrD9WJS"
   },
   "source": [
    "### Dataset\n",
    "\n",
    "The data contains characteristics of the people\n",
    "\n",
    "* age: continuous - age of a Person \n",
    "* workclass: Where does a person works - categorical -Private, Self-emp-not-inc, Self-emp-inc, Federal-gov, Local-gov, State-gov, Without-pay, Never-worked.\n",
    "* fnlwgt: continuous - Weight assigned by Current Population Survey (CPS) - People with similar demographic characteristics should have similar weights since it is a feature aimed to allocate similar weights to people with similar demographic characteristics.\n",
    "* education: Degree the person has - Bachelors, Some-college, 11th, HS-grad, Prof-school, Assoc-acdm, Assoc-voc, 9th, 7th-8th, 12th, Masters, 1st-4th, 10th, Doctorate, 5th-6th, Preschool.\n",
    "* education-num: no. of years a person studied - continuous.\n",
    "* marital-status: Married-civ-spouse, Divorced, Never-married, Separated, Widowed, Married-spouse-absent, Married-AF-spouse.\n",
    "* occupation: Tech-support, Craft-repair, Other-service, Sales, Exec-managerial, Prof-specialty, Handlers-cleaners, Machine-op-inspct, Adm-clerical, Farming-fishing, Transport-moving, Priv-house-serv, Protective-serv, Armed-Forces.\n",
    "* race: White, Asian-Pac-Islander, Amer-Indian-Eskimo, Other, Black.\n",
    "* sex: Female, Male.\n",
    "* capital-gain: Investment gain of the person other than salary - continuous\n",
    "* capital-loss: Loss from investments - continuous\n",
    "* hours-per-week: No. of hours a person works - continuous.\n",
    "* native-country: United-States, Cambodia, England, Puerto-Rico, Canada, Germany, Outlying-US(Guam-USVI-etc), India, Japan, Greece, South, China, Cuba, Iran, Honduras, Philippines, Italy, Poland, Jamaica, Vietnam, Mexico, Portugal, Ireland, France, Dominican-Republic, Laos, Ecuador, Taiwan, Haiti, Columbia, Hungary, Guatemala, Nicaragua, Scotland, Thailand, Yugoslavia, El-Salvador, Trinidad&Tobago, Peru, Hong, Holand-Netherlands.\n",
    "* salary: >50K, <=50K (dependent variable, the salary is in Dollars per year)"
   ]
  },
  {
   "cell_type": "markdown",
   "id": "crazy-operations",
   "metadata": {
    "id": "ZzsW_RNeuNEx"
   },
   "source": [
    "### Loading Libraries"
   ]
  },
  {
   "cell_type": "code",
   "execution_count": 1,
   "id": "handled-ordinance",
   "metadata": {},
   "outputs": [],
   "source": [
    "import warnings\n",
    "warnings.filterwarnings(\"ignore\")\n",
    "\n",
    "# Libraries to help with reading and manipulating data\n",
    "\n",
    "import pandas as pd\n",
    "import numpy as np\n",
    "\n",
    "# Library to split data\n",
    "from sklearn.model_selection import train_test_split\n",
    "\n",
    "# libaries to help with data visualization\n",
    "import matplotlib.pyplot as plt\n",
    "import seaborn as sns\n",
    "\n",
    "# Removes the limit from the number of displayed columns and rows.\n",
    "pd.set_option(\"display.max_columns\", None)\n",
    "pd.set_option(\"display.max_rows\", 200)\n",
    "\n",
    "# To build sklearn model\n",
    "from sklearn.linear_model import LogisticRegression\n",
    "\n",
    "# To get diferent metric scores\n",
    "from sklearn import metrics\n",
    "from sklearn.metrics import f1_score,accuracy_score, recall_score, precision_score, roc_auc_score, roc_curve, confusion_matrix, precision_recall_curve\n"
   ]
  },
  {
   "cell_type": "markdown",
   "id": "decreased-cambodia",
   "metadata": {},
   "source": [
    "### Note: The first section of the notebook is the section that has been covered multiple times in the previous case studies.  For this discussion this part can be skipped and we can directly refer to this **<a href = #link1>summary</a>** of data cleaning steps and observations from EDA."
   ]
  },
  {
   "cell_type": "markdown",
   "id": "renewable-instrumentation",
   "metadata": {
    "id": "sAccTEIqj9VV"
   },
   "source": [
    "### Load data"
   ]
  },
  {
   "cell_type": "code",
   "execution_count": 2,
   "id": "alpha-endorsement",
   "metadata": {
    "id": "STzpWgWu9WJZ"
   },
   "outputs": [],
   "source": [
    "who = pd.read_csv(\"who_data.csv\")"
   ]
  },
  {
   "cell_type": "code",
   "execution_count": 3,
   "id": "fifty-prime",
   "metadata": {},
   "outputs": [],
   "source": [
    "# copying data to another variable to avoid any changes to original data\n",
    "data = who.copy()"
   ]
  },
  {
   "cell_type": "markdown",
   "id": "egyptian-workstation",
   "metadata": {},
   "source": [
    "### View the first and last 5 rows of the dataset."
   ]
  },
  {
   "cell_type": "code",
   "execution_count": 4,
   "id": "interpreted-publisher",
   "metadata": {
    "colab": {
     "base_uri": "https://localhost:8080/",
     "height": 306
    },
    "id": "frKZJfik9WJc",
    "outputId": "80196792-f0f7-4482-d9be-ba731e441e23"
   },
   "outputs": [
    {
     "data": {
      "text/html": [
       "<div>\n",
       "<style scoped>\n",
       "    .dataframe tbody tr th:only-of-type {\n",
       "        vertical-align: middle;\n",
       "    }\n",
       "\n",
       "    .dataframe tbody tr th {\n",
       "        vertical-align: top;\n",
       "    }\n",
       "\n",
       "    .dataframe thead th {\n",
       "        text-align: right;\n",
       "    }\n",
       "</style>\n",
       "<table border=\"1\" class=\"dataframe\">\n",
       "  <thead>\n",
       "    <tr style=\"text-align: right;\">\n",
       "      <th></th>\n",
       "      <th>age</th>\n",
       "      <th>workclass</th>\n",
       "      <th>fnlwgt</th>\n",
       "      <th>education</th>\n",
       "      <th>education-no. of years</th>\n",
       "      <th>marital status</th>\n",
       "      <th>occupation</th>\n",
       "      <th>race</th>\n",
       "      <th>sex</th>\n",
       "      <th>capital gain</th>\n",
       "      <th>capital loss</th>\n",
       "      <th>working hours per week</th>\n",
       "      <th>native-country</th>\n",
       "      <th>salary</th>\n",
       "    </tr>\n",
       "  </thead>\n",
       "  <tbody>\n",
       "    <tr>\n",
       "      <th>0</th>\n",
       "      <td>39</td>\n",
       "      <td>State-gov</td>\n",
       "      <td>77516</td>\n",
       "      <td>Bachelors</td>\n",
       "      <td>13</td>\n",
       "      <td>Never-married</td>\n",
       "      <td>Adm-clerical</td>\n",
       "      <td>White</td>\n",
       "      <td>Male</td>\n",
       "      <td>2174</td>\n",
       "      <td>0</td>\n",
       "      <td>40</td>\n",
       "      <td>United-States</td>\n",
       "      <td>&lt;=50K</td>\n",
       "    </tr>\n",
       "    <tr>\n",
       "      <th>1</th>\n",
       "      <td>50</td>\n",
       "      <td>Self-emp-not-inc</td>\n",
       "      <td>83311</td>\n",
       "      <td>Bachelors</td>\n",
       "      <td>13</td>\n",
       "      <td>Married-civ-spouse</td>\n",
       "      <td>Exec-managerial</td>\n",
       "      <td>White</td>\n",
       "      <td>Male</td>\n",
       "      <td>0</td>\n",
       "      <td>0</td>\n",
       "      <td>13</td>\n",
       "      <td>United-States</td>\n",
       "      <td>&lt;=50K</td>\n",
       "    </tr>\n",
       "    <tr>\n",
       "      <th>2</th>\n",
       "      <td>38</td>\n",
       "      <td>Private</td>\n",
       "      <td>215646</td>\n",
       "      <td>HS-grad</td>\n",
       "      <td>9</td>\n",
       "      <td>Divorced</td>\n",
       "      <td>Handlers-cleaners</td>\n",
       "      <td>White</td>\n",
       "      <td>Male</td>\n",
       "      <td>0</td>\n",
       "      <td>0</td>\n",
       "      <td>40</td>\n",
       "      <td>United-States</td>\n",
       "      <td>&lt;=50K</td>\n",
       "    </tr>\n",
       "    <tr>\n",
       "      <th>3</th>\n",
       "      <td>53</td>\n",
       "      <td>Private</td>\n",
       "      <td>234721</td>\n",
       "      <td>11th</td>\n",
       "      <td>7</td>\n",
       "      <td>Married-civ-spouse</td>\n",
       "      <td>Handlers-cleaners</td>\n",
       "      <td>Black</td>\n",
       "      <td>Male</td>\n",
       "      <td>0</td>\n",
       "      <td>0</td>\n",
       "      <td>40</td>\n",
       "      <td>United-States</td>\n",
       "      <td>&lt;=50K</td>\n",
       "    </tr>\n",
       "    <tr>\n",
       "      <th>4</th>\n",
       "      <td>28</td>\n",
       "      <td>Private</td>\n",
       "      <td>338409</td>\n",
       "      <td>Bachelors</td>\n",
       "      <td>13</td>\n",
       "      <td>Married-civ-spouse</td>\n",
       "      <td>Prof-specialty</td>\n",
       "      <td>Black</td>\n",
       "      <td>Female</td>\n",
       "      <td>0</td>\n",
       "      <td>0</td>\n",
       "      <td>40</td>\n",
       "      <td>Cuba</td>\n",
       "      <td>&lt;=50K</td>\n",
       "    </tr>\n",
       "  </tbody>\n",
       "</table>\n",
       "</div>"
      ],
      "text/plain": [
       "   age          workclass  fnlwgt   education  education-no. of years  \\\n",
       "0   39          State-gov   77516   Bachelors                      13   \n",
       "1   50   Self-emp-not-inc   83311   Bachelors                      13   \n",
       "2   38            Private  215646     HS-grad                       9   \n",
       "3   53            Private  234721        11th                       7   \n",
       "4   28            Private  338409   Bachelors                      13   \n",
       "\n",
       "        marital status          occupation    race      sex  capital gain  \\\n",
       "0        Never-married        Adm-clerical   White     Male          2174   \n",
       "1   Married-civ-spouse     Exec-managerial   White     Male             0   \n",
       "2             Divorced   Handlers-cleaners   White     Male             0   \n",
       "3   Married-civ-spouse   Handlers-cleaners   Black     Male             0   \n",
       "4   Married-civ-spouse      Prof-specialty   Black   Female             0   \n",
       "\n",
       "   capital loss  working hours per week  native-country  salary  \n",
       "0             0                      40   United-States   <=50K  \n",
       "1             0                      13   United-States   <=50K  \n",
       "2             0                      40   United-States   <=50K  \n",
       "3             0                      40   United-States   <=50K  \n",
       "4             0                      40            Cuba   <=50K  "
      ]
     },
     "execution_count": 4,
     "metadata": {},
     "output_type": "execute_result"
    }
   ],
   "source": [
    "data.head()"
   ]
  },
  {
   "cell_type": "code",
   "execution_count": 5,
   "id": "cultural-reviewer",
   "metadata": {},
   "outputs": [
    {
     "data": {
      "text/html": [
       "<div>\n",
       "<style scoped>\n",
       "    .dataframe tbody tr th:only-of-type {\n",
       "        vertical-align: middle;\n",
       "    }\n",
       "\n",
       "    .dataframe tbody tr th {\n",
       "        vertical-align: top;\n",
       "    }\n",
       "\n",
       "    .dataframe thead th {\n",
       "        text-align: right;\n",
       "    }\n",
       "</style>\n",
       "<table border=\"1\" class=\"dataframe\">\n",
       "  <thead>\n",
       "    <tr style=\"text-align: right;\">\n",
       "      <th></th>\n",
       "      <th>age</th>\n",
       "      <th>workclass</th>\n",
       "      <th>fnlwgt</th>\n",
       "      <th>education</th>\n",
       "      <th>education-no. of years</th>\n",
       "      <th>marital status</th>\n",
       "      <th>occupation</th>\n",
       "      <th>race</th>\n",
       "      <th>sex</th>\n",
       "      <th>capital gain</th>\n",
       "      <th>capital loss</th>\n",
       "      <th>working hours per week</th>\n",
       "      <th>native-country</th>\n",
       "      <th>salary</th>\n",
       "    </tr>\n",
       "  </thead>\n",
       "  <tbody>\n",
       "    <tr>\n",
       "      <th>32556</th>\n",
       "      <td>27</td>\n",
       "      <td>Private</td>\n",
       "      <td>257302</td>\n",
       "      <td>Assoc-acdm</td>\n",
       "      <td>12</td>\n",
       "      <td>Married-civ-spouse</td>\n",
       "      <td>Tech-support</td>\n",
       "      <td>White</td>\n",
       "      <td>Female</td>\n",
       "      <td>0</td>\n",
       "      <td>0</td>\n",
       "      <td>38</td>\n",
       "      <td>United-States</td>\n",
       "      <td>&lt;=50K</td>\n",
       "    </tr>\n",
       "    <tr>\n",
       "      <th>32557</th>\n",
       "      <td>40</td>\n",
       "      <td>Private</td>\n",
       "      <td>154374</td>\n",
       "      <td>HS-grad</td>\n",
       "      <td>9</td>\n",
       "      <td>Married-civ-spouse</td>\n",
       "      <td>Machine-op-inspct</td>\n",
       "      <td>White</td>\n",
       "      <td>Male</td>\n",
       "      <td>0</td>\n",
       "      <td>0</td>\n",
       "      <td>40</td>\n",
       "      <td>United-States</td>\n",
       "      <td>&gt;50K</td>\n",
       "    </tr>\n",
       "    <tr>\n",
       "      <th>32558</th>\n",
       "      <td>58</td>\n",
       "      <td>Private</td>\n",
       "      <td>151910</td>\n",
       "      <td>HS-grad</td>\n",
       "      <td>9</td>\n",
       "      <td>Widowed</td>\n",
       "      <td>Adm-clerical</td>\n",
       "      <td>White</td>\n",
       "      <td>Female</td>\n",
       "      <td>0</td>\n",
       "      <td>0</td>\n",
       "      <td>40</td>\n",
       "      <td>United-States</td>\n",
       "      <td>&lt;=50K</td>\n",
       "    </tr>\n",
       "    <tr>\n",
       "      <th>32559</th>\n",
       "      <td>22</td>\n",
       "      <td>Private</td>\n",
       "      <td>201490</td>\n",
       "      <td>HS-grad</td>\n",
       "      <td>9</td>\n",
       "      <td>Never-married</td>\n",
       "      <td>Adm-clerical</td>\n",
       "      <td>White</td>\n",
       "      <td>Male</td>\n",
       "      <td>0</td>\n",
       "      <td>0</td>\n",
       "      <td>20</td>\n",
       "      <td>United-States</td>\n",
       "      <td>&lt;=50K</td>\n",
       "    </tr>\n",
       "    <tr>\n",
       "      <th>32560</th>\n",
       "      <td>52</td>\n",
       "      <td>Self-emp-inc</td>\n",
       "      <td>287927</td>\n",
       "      <td>HS-grad</td>\n",
       "      <td>9</td>\n",
       "      <td>Married-civ-spouse</td>\n",
       "      <td>Exec-managerial</td>\n",
       "      <td>White</td>\n",
       "      <td>Female</td>\n",
       "      <td>15024</td>\n",
       "      <td>0</td>\n",
       "      <td>40</td>\n",
       "      <td>United-States</td>\n",
       "      <td>&gt;50K</td>\n",
       "    </tr>\n",
       "  </tbody>\n",
       "</table>\n",
       "</div>"
      ],
      "text/plain": [
       "       age      workclass  fnlwgt    education  education-no. of years  \\\n",
       "32556   27        Private  257302   Assoc-acdm                      12   \n",
       "32557   40        Private  154374      HS-grad                       9   \n",
       "32558   58        Private  151910      HS-grad                       9   \n",
       "32559   22        Private  201490      HS-grad                       9   \n",
       "32560   52   Self-emp-inc  287927      HS-grad                       9   \n",
       "\n",
       "            marital status          occupation    race      sex  capital gain  \\\n",
       "32556   Married-civ-spouse        Tech-support   White   Female             0   \n",
       "32557   Married-civ-spouse   Machine-op-inspct   White     Male             0   \n",
       "32558              Widowed        Adm-clerical   White   Female             0   \n",
       "32559        Never-married        Adm-clerical   White     Male             0   \n",
       "32560   Married-civ-spouse     Exec-managerial   White   Female         15024   \n",
       "\n",
       "       capital loss  working hours per week  native-country  salary  \n",
       "32556             0                      38   United-States   <=50K  \n",
       "32557             0                      40   United-States    >50K  \n",
       "32558             0                      40   United-States   <=50K  \n",
       "32559             0                      20   United-States   <=50K  \n",
       "32560             0                      40   United-States    >50K  "
      ]
     },
     "execution_count": 5,
     "metadata": {},
     "output_type": "execute_result"
    }
   ],
   "source": [
    "data.tail()"
   ]
  },
  {
   "cell_type": "markdown",
   "id": "another-punishment",
   "metadata": {
    "colab_type": "text",
    "id": "dEuSu6e4hU2e"
   },
   "source": [
    "### Understand the shape of the dataset."
   ]
  },
  {
   "cell_type": "code",
   "execution_count": 6,
   "id": "second-jewel",
   "metadata": {},
   "outputs": [
    {
     "data": {
      "text/plain": [
       "(32561, 14)"
      ]
     },
     "execution_count": 6,
     "metadata": {},
     "output_type": "execute_result"
    }
   ],
   "source": [
    "data.shape"
   ]
  },
  {
   "cell_type": "markdown",
   "id": "abroad-virgin",
   "metadata": {},
   "source": [
    "* The dataset has 32561 rows and 14 columns "
   ]
  },
  {
   "cell_type": "markdown",
   "id": "brutal-question",
   "metadata": {
    "colab_type": "text",
    "id": "mwAu-vEwhU2m"
   },
   "source": [
    "### Check the data types of the columns for the dataset."
   ]
  },
  {
   "cell_type": "code",
   "execution_count": 7,
   "id": "sitting-rough",
   "metadata": {
    "colab": {
     "base_uri": "https://localhost:8080/"
    },
    "id": "UXqzxZrw9WJg",
    "outputId": "4d1e0b70-4911-4e63-d263-6168fa386b65",
    "scrolled": false
   },
   "outputs": [
    {
     "name": "stdout",
     "output_type": "stream",
     "text": [
      "<class 'pandas.core.frame.DataFrame'>\n",
      "RangeIndex: 32561 entries, 0 to 32560\n",
      "Data columns (total 14 columns):\n",
      " #   Column                  Non-Null Count  Dtype \n",
      "---  ------                  --------------  ----- \n",
      " 0   age                     32561 non-null  int64 \n",
      " 1   workclass               32561 non-null  object\n",
      " 2   fnlwgt                  32561 non-null  int64 \n",
      " 3   education               32561 non-null  object\n",
      " 4   education-no. of years  32561 non-null  int64 \n",
      " 5   marital status          32561 non-null  object\n",
      " 6   occupation              32561 non-null  object\n",
      " 7   race                    32561 non-null  object\n",
      " 8   sex                     32561 non-null  object\n",
      " 9   capital gain            32561 non-null  int64 \n",
      " 10  capital loss            32561 non-null  int64 \n",
      " 11  working hours per week  32561 non-null  int64 \n",
      " 12  native-country          32561 non-null  object\n",
      " 13  salary                  32561 non-null  object\n",
      "dtypes: int64(6), object(8)\n",
      "memory usage: 3.5+ MB\n"
     ]
    }
   ],
   "source": [
    "data.info()"
   ]
  },
  {
   "cell_type": "markdown",
   "id": "dental-marketplace",
   "metadata": {
    "id": "kkceeszl9WJj"
   },
   "source": [
    "* We see that names of the columns have spaces, dots, and dash which we will remove as they should not be present in column names. We are doing this to maintain uniformity along with column names\n",
    "* Dependent variable is the salary which is of categorical type\n",
    "* age, capital gain, and capital loss are of integer type while other variables are of categorical type\n",
    "* There are no missing values in the dataset."
   ]
  },
  {
   "cell_type": "code",
   "execution_count": 8,
   "id": "marked-funeral",
   "metadata": {
    "id": "BMXZrEVsuZcc"
   },
   "outputs": [],
   "source": [
    "# fixing the names of columns as there are dots, spaces  in columns names\n",
    "data.columns =[col.replace(' ','_') for col in data.columns]\n",
    "data.columns =[col.replace('-','_') for col in data.columns]\n",
    "data.columns =[col.replace('.','') for col in data.columns]"
   ]
  },
  {
   "cell_type": "code",
   "execution_count": 9,
   "id": "polished-floating",
   "metadata": {
    "colab": {
     "base_uri": "https://localhost:8080/"
    },
    "id": "3BUEfwoqudEU",
    "outputId": "4f861321-21f4-4fac-f144-1a3486e49f1f"
   },
   "outputs": [
    {
     "name": "stdout",
     "output_type": "stream",
     "text": [
      "Index(['age', 'workclass', 'fnlwgt', 'education', 'education_no_of_years',\n",
      "       'marital_status', 'occupation', 'race', 'sex', 'capital_gain',\n",
      "       'capital_loss', 'working_hours_per_week', 'native_country', 'salary'],\n",
      "      dtype='object')\n"
     ]
    }
   ],
   "source": [
    "print(data.columns)"
   ]
  },
  {
   "cell_type": "markdown",
   "id": "internal-concept",
   "metadata": {
    "id": "dGTJS089uj3d"
   },
   "source": [
    "* column names are fixed"
   ]
  },
  {
   "cell_type": "markdown",
   "id": "sealed-platform",
   "metadata": {
    "colab_type": "text",
    "id": "7E1orwlJhU20"
   },
   "source": [
    "### Summary of the dataset."
   ]
  },
  {
   "cell_type": "code",
   "execution_count": 10,
   "id": "unusual-industry",
   "metadata": {
    "colab": {
     "base_uri": "https://localhost:8080/",
     "height": 427
    },
    "id": "zWfoZeXv9WJm",
    "outputId": "a775bf9f-9a96-476d-889d-1ae4c5c616fe"
   },
   "outputs": [
    {
     "data": {
      "text/html": [
       "<div>\n",
       "<style scoped>\n",
       "    .dataframe tbody tr th:only-of-type {\n",
       "        vertical-align: middle;\n",
       "    }\n",
       "\n",
       "    .dataframe tbody tr th {\n",
       "        vertical-align: top;\n",
       "    }\n",
       "\n",
       "    .dataframe thead th {\n",
       "        text-align: right;\n",
       "    }\n",
       "</style>\n",
       "<table border=\"1\" class=\"dataframe\">\n",
       "  <thead>\n",
       "    <tr style=\"text-align: right;\">\n",
       "      <th></th>\n",
       "      <th>count</th>\n",
       "      <th>mean</th>\n",
       "      <th>std</th>\n",
       "      <th>min</th>\n",
       "      <th>25%</th>\n",
       "      <th>50%</th>\n",
       "      <th>75%</th>\n",
       "      <th>max</th>\n",
       "    </tr>\n",
       "  </thead>\n",
       "  <tbody>\n",
       "    <tr>\n",
       "      <th>age</th>\n",
       "      <td>32561.0</td>\n",
       "      <td>38.581647</td>\n",
       "      <td>13.640433</td>\n",
       "      <td>17.0</td>\n",
       "      <td>28.0</td>\n",
       "      <td>37.0</td>\n",
       "      <td>48.0</td>\n",
       "      <td>90.0</td>\n",
       "    </tr>\n",
       "    <tr>\n",
       "      <th>fnlwgt</th>\n",
       "      <td>32561.0</td>\n",
       "      <td>189778.366512</td>\n",
       "      <td>105549.977697</td>\n",
       "      <td>12285.0</td>\n",
       "      <td>117827.0</td>\n",
       "      <td>178356.0</td>\n",
       "      <td>237051.0</td>\n",
       "      <td>1484705.0</td>\n",
       "    </tr>\n",
       "    <tr>\n",
       "      <th>education_no_of_years</th>\n",
       "      <td>32561.0</td>\n",
       "      <td>10.080679</td>\n",
       "      <td>2.572720</td>\n",
       "      <td>1.0</td>\n",
       "      <td>9.0</td>\n",
       "      <td>10.0</td>\n",
       "      <td>12.0</td>\n",
       "      <td>16.0</td>\n",
       "    </tr>\n",
       "    <tr>\n",
       "      <th>capital_gain</th>\n",
       "      <td>32561.0</td>\n",
       "      <td>1077.648844</td>\n",
       "      <td>7385.292085</td>\n",
       "      <td>0.0</td>\n",
       "      <td>0.0</td>\n",
       "      <td>0.0</td>\n",
       "      <td>0.0</td>\n",
       "      <td>99999.0</td>\n",
       "    </tr>\n",
       "    <tr>\n",
       "      <th>capital_loss</th>\n",
       "      <td>32561.0</td>\n",
       "      <td>87.303830</td>\n",
       "      <td>402.960219</td>\n",
       "      <td>0.0</td>\n",
       "      <td>0.0</td>\n",
       "      <td>0.0</td>\n",
       "      <td>0.0</td>\n",
       "      <td>4356.0</td>\n",
       "    </tr>\n",
       "    <tr>\n",
       "      <th>working_hours_per_week</th>\n",
       "      <td>32561.0</td>\n",
       "      <td>40.437456</td>\n",
       "      <td>12.347429</td>\n",
       "      <td>1.0</td>\n",
       "      <td>40.0</td>\n",
       "      <td>40.0</td>\n",
       "      <td>45.0</td>\n",
       "      <td>99.0</td>\n",
       "    </tr>\n",
       "  </tbody>\n",
       "</table>\n",
       "</div>"
      ],
      "text/plain": [
       "                          count           mean            std      min  \\\n",
       "age                     32561.0      38.581647      13.640433     17.0   \n",
       "fnlwgt                  32561.0  189778.366512  105549.977697  12285.0   \n",
       "education_no_of_years   32561.0      10.080679       2.572720      1.0   \n",
       "capital_gain            32561.0    1077.648844    7385.292085      0.0   \n",
       "capital_loss            32561.0      87.303830     402.960219      0.0   \n",
       "working_hours_per_week  32561.0      40.437456      12.347429      1.0   \n",
       "\n",
       "                             25%       50%       75%        max  \n",
       "age                         28.0      37.0      48.0       90.0  \n",
       "fnlwgt                  117827.0  178356.0  237051.0  1484705.0  \n",
       "education_no_of_years        9.0      10.0      12.0       16.0  \n",
       "capital_gain                 0.0       0.0       0.0    99999.0  \n",
       "capital_loss                 0.0       0.0       0.0     4356.0  \n",
       "working_hours_per_week      40.0      40.0      45.0       99.0  "
      ]
     },
     "execution_count": 10,
     "metadata": {},
     "output_type": "execute_result"
    }
   ],
   "source": [
    "data.describe().T"
   ]
  },
  {
   "cell_type": "markdown",
   "id": "administrative-protein",
   "metadata": {
    "id": "aMsnBrFN9WJp"
   },
   "source": [
    "* `age`: Average age of people in the dataset is 38 years, age has a wide range from 17 to 90 years.\n",
    "* `education_no_of_years`: The average education in years is 10 years. There's a large difference between the minimum value and 25th percentile which indicates that there might be outliers present in this variable.\n",
    "* `capital_gain`: There's a huge difference in the 75th percentile and maximum value of capital_gain indicating the presence of outliers. Also, 75% of the observations are 0.\n",
    "* `capital_loss`: Same as capital gain there's a huge difference in the 75th percentile and maximum value indicating the presence of outliers. Also, 75% of the observations are 0.\n",
    "* `working_hours_per_week`: On average people work for 40 hours a week. A vast difference in minimum value and 25th percentile, as well as 75th percentile and the maximum value, indicates that there might be outliers present in the variable."
   ]
  },
  {
   "cell_type": "markdown",
   "id": "grand-trainer",
   "metadata": {
    "id": "4qAJgcnu9WJz"
   },
   "source": [
    "**Lets us look at different levels in categorical variables**"
   ]
  },
  {
   "cell_type": "code",
   "execution_count": 11,
   "id": "governing-shaft",
   "metadata": {},
   "outputs": [
    {
     "data": {
      "text/plain": [
       "Index(['workclass', 'education', 'marital_status', 'occupation', 'race', 'sex',\n",
       "       'native_country', 'salary'],\n",
       "      dtype='object')"
      ]
     },
     "execution_count": 11,
     "metadata": {},
     "output_type": "execute_result"
    }
   ],
   "source": [
    "# filtering object type columns\n",
    "cat_columns = data.describe(include=['object']).columns\n",
    "cat_columns"
   ]
  },
  {
   "cell_type": "code",
   "execution_count": 12,
   "id": "sapphire-reunion",
   "metadata": {
    "scrolled": false
   },
   "outputs": [
    {
     "name": "stdout",
     "output_type": "stream",
     "text": [
      "Unique values in workclass are :\n",
      " Private             22696\n",
      " Self-emp-not-inc     2541\n",
      " Local-gov            2093\n",
      " ?                    1836\n",
      " State-gov            1298\n",
      " Self-emp-inc         1116\n",
      " Federal-gov           960\n",
      " Without-pay            14\n",
      " Never-worked            7\n",
      "Name: workclass, dtype: int64\n",
      "**************************************************\n",
      "Unique values in education are :\n",
      " HS-grad         10501\n",
      " Some-college     7291\n",
      " Bachelors        5355\n",
      " Masters          1723\n",
      " Assoc-voc        1382\n",
      " 11th             1175\n",
      " Assoc-acdm       1067\n",
      " 10th              933\n",
      " 7th-8th           646\n",
      " Prof-school       576\n",
      " 9th               514\n",
      " 12th              433\n",
      " Doctorate         413\n",
      " 5th-6th           333\n",
      " 1st-4th           168\n",
      " Preschool          51\n",
      "Name: education, dtype: int64\n",
      "**************************************************\n",
      "Unique values in marital_status are :\n",
      " Married-civ-spouse       14976\n",
      " Never-married            10683\n",
      " Divorced                  4443\n",
      " Separated                 1025\n",
      " Widowed                    993\n",
      " Married-spouse-absent      418\n",
      " Married-AF-spouse           23\n",
      "Name: marital_status, dtype: int64\n",
      "**************************************************\n",
      "Unique values in occupation are :\n",
      " Prof-specialty       4140\n",
      " Craft-repair         4099\n",
      " Exec-managerial      4066\n",
      " Adm-clerical         3770\n",
      " Sales                3650\n",
      " Other-service        3295\n",
      " Machine-op-inspct    2002\n",
      " ?                    1843\n",
      " Transport-moving     1597\n",
      " Handlers-cleaners    1370\n",
      " Farming-fishing       994\n",
      " Tech-support          928\n",
      " Protective-serv       649\n",
      " Priv-house-serv       149\n",
      " Armed-Forces            9\n",
      "Name: occupation, dtype: int64\n",
      "**************************************************\n",
      "Unique values in race are :\n",
      " White                 27816\n",
      " Black                  3124\n",
      " Asian-Pac-Islander     1039\n",
      " Amer-Indian-Eskimo      311\n",
      " Other                   271\n",
      "Name: race, dtype: int64\n",
      "**************************************************\n",
      "Unique values in sex are :\n",
      " Male      21790\n",
      " Female    10771\n",
      "Name: sex, dtype: int64\n",
      "**************************************************\n",
      "Unique values in native_country are :\n",
      " United-States                 29170\n",
      " Mexico                          643\n",
      " ?                               583\n",
      " Philippines                     198\n",
      " Germany                         137\n",
      " Canada                          121\n",
      " Puerto-Rico                     114\n",
      " El-Salvador                     106\n",
      " India                           100\n",
      " Cuba                             95\n",
      " England                          90\n",
      " Jamaica                          81\n",
      " South                            80\n",
      " China                            75\n",
      " Italy                            73\n",
      " Dominican-Republic               70\n",
      " Vietnam                          67\n",
      " Guatemala                        64\n",
      " Japan                            62\n",
      " Poland                           60\n",
      " Columbia                         59\n",
      " Taiwan                           51\n",
      " Haiti                            44\n",
      " Iran                             43\n",
      " Portugal                         37\n",
      " Nicaragua                        34\n",
      " Peru                             31\n",
      " France                           29\n",
      " Greece                           29\n",
      " Ecuador                          28\n",
      " Ireland                          24\n",
      " Hong                             20\n",
      " Cambodia                         19\n",
      " Trinadad&Tobago                  19\n",
      " Laos                             18\n",
      " Thailand                         18\n",
      " Yugoslavia                       16\n",
      " Outlying-US(Guam-USVI-etc)       14\n",
      " Honduras                         13\n",
      " Hungary                          13\n",
      " Scotland                         12\n",
      " Holand-Netherlands                1\n",
      "Name: native_country, dtype: int64\n",
      "**************************************************\n",
      "Unique values in salary are :\n",
      " <=50K    24720\n",
      " >50K      7841\n",
      "Name: salary, dtype: int64\n",
      "**************************************************\n"
     ]
    }
   ],
   "source": [
    "for i in cat_columns:\n",
    "    print('Unique values in',i, 'are :')\n",
    "    print(data[i].value_counts())\n",
    "    print('*'*50)"
   ]
  },
  {
   "cell_type": "markdown",
   "id": "earned-sheriff",
   "metadata": {},
   "source": [
    "* There are some values represented by a '?' in workclass, occupation, and native country columns which we should investigate further.\n",
    "* There are many distinct values in native_country that can be reduced to their respective continents.\n",
    "* The distinct levels of marital_status can also be reduced."
   ]
  },
  {
   "cell_type": "markdown",
   "id": "super-exhibition",
   "metadata": {},
   "source": [
    "#### We can assume that wherever there is a ? the data is unknown or missing. Let us see if there is a pattern in the missingness."
   ]
  },
  {
   "cell_type": "markdown",
   "id": "recent-ladder",
   "metadata": {},
   "source": [
    "#### workclass"
   ]
  },
  {
   "cell_type": "code",
   "execution_count": 13,
   "id": "working-frank",
   "metadata": {},
   "outputs": [
    {
     "data": {
      "text/html": [
       "<div>\n",
       "<style scoped>\n",
       "    .dataframe tbody tr th:only-of-type {\n",
       "        vertical-align: middle;\n",
       "    }\n",
       "\n",
       "    .dataframe tbody tr th {\n",
       "        vertical-align: top;\n",
       "    }\n",
       "\n",
       "    .dataframe thead th {\n",
       "        text-align: right;\n",
       "    }\n",
       "</style>\n",
       "<table border=\"1\" class=\"dataframe\">\n",
       "  <thead>\n",
       "    <tr style=\"text-align: right;\">\n",
       "      <th></th>\n",
       "      <th>age</th>\n",
       "      <th>workclass</th>\n",
       "      <th>fnlwgt</th>\n",
       "      <th>education</th>\n",
       "      <th>education_no_of_years</th>\n",
       "      <th>marital_status</th>\n",
       "      <th>occupation</th>\n",
       "      <th>race</th>\n",
       "      <th>sex</th>\n",
       "      <th>capital_gain</th>\n",
       "      <th>capital_loss</th>\n",
       "      <th>working_hours_per_week</th>\n",
       "      <th>native_country</th>\n",
       "      <th>salary</th>\n",
       "    </tr>\n",
       "  </thead>\n",
       "  <tbody>\n",
       "    <tr>\n",
       "      <th>6834</th>\n",
       "      <td>60</td>\n",
       "      <td>?</td>\n",
       "      <td>112821</td>\n",
       "      <td>Some-college</td>\n",
       "      <td>10</td>\n",
       "      <td>Married-civ-spouse</td>\n",
       "      <td>?</td>\n",
       "      <td>White</td>\n",
       "      <td>Male</td>\n",
       "      <td>0</td>\n",
       "      <td>0</td>\n",
       "      <td>35</td>\n",
       "      <td>United-States</td>\n",
       "      <td>&gt;50K</td>\n",
       "    </tr>\n",
       "    <tr>\n",
       "      <th>3228</th>\n",
       "      <td>32</td>\n",
       "      <td>?</td>\n",
       "      <td>53042</td>\n",
       "      <td>HS-grad</td>\n",
       "      <td>9</td>\n",
       "      <td>Never-married</td>\n",
       "      <td>?</td>\n",
       "      <td>Black</td>\n",
       "      <td>Male</td>\n",
       "      <td>0</td>\n",
       "      <td>0</td>\n",
       "      <td>40</td>\n",
       "      <td>United-States</td>\n",
       "      <td>&lt;=50K</td>\n",
       "    </tr>\n",
       "    <tr>\n",
       "      <th>23711</th>\n",
       "      <td>63</td>\n",
       "      <td>?</td>\n",
       "      <td>234083</td>\n",
       "      <td>HS-grad</td>\n",
       "      <td>9</td>\n",
       "      <td>Divorced</td>\n",
       "      <td>?</td>\n",
       "      <td>White</td>\n",
       "      <td>Female</td>\n",
       "      <td>0</td>\n",
       "      <td>2205</td>\n",
       "      <td>40</td>\n",
       "      <td>United-States</td>\n",
       "      <td>&lt;=50K</td>\n",
       "    </tr>\n",
       "    <tr>\n",
       "      <th>2760</th>\n",
       "      <td>56</td>\n",
       "      <td>?</td>\n",
       "      <td>656036</td>\n",
       "      <td>HS-grad</td>\n",
       "      <td>9</td>\n",
       "      <td>Married-civ-spouse</td>\n",
       "      <td>?</td>\n",
       "      <td>White</td>\n",
       "      <td>Male</td>\n",
       "      <td>0</td>\n",
       "      <td>0</td>\n",
       "      <td>25</td>\n",
       "      <td>United-States</td>\n",
       "      <td>&lt;=50K</td>\n",
       "    </tr>\n",
       "    <tr>\n",
       "      <th>14672</th>\n",
       "      <td>41</td>\n",
       "      <td>?</td>\n",
       "      <td>217921</td>\n",
       "      <td>9th</td>\n",
       "      <td>5</td>\n",
       "      <td>Married-civ-spouse</td>\n",
       "      <td>?</td>\n",
       "      <td>Asian-Pac-Islander</td>\n",
       "      <td>Female</td>\n",
       "      <td>0</td>\n",
       "      <td>0</td>\n",
       "      <td>40</td>\n",
       "      <td>Hong</td>\n",
       "      <td>&lt;=50K</td>\n",
       "    </tr>\n",
       "  </tbody>\n",
       "</table>\n",
       "</div>"
      ],
      "text/plain": [
       "       age workclass  fnlwgt      education  education_no_of_years  \\\n",
       "6834    60         ?  112821   Some-college                     10   \n",
       "3228    32         ?   53042        HS-grad                      9   \n",
       "23711   63         ?  234083        HS-grad                      9   \n",
       "2760    56         ?  656036        HS-grad                      9   \n",
       "14672   41         ?  217921            9th                      5   \n",
       "\n",
       "            marital_status occupation                 race      sex  \\\n",
       "6834    Married-civ-spouse          ?                White     Male   \n",
       "3228         Never-married          ?                Black     Male   \n",
       "23711             Divorced          ?                White   Female   \n",
       "2760    Married-civ-spouse          ?                White     Male   \n",
       "14672   Married-civ-spouse          ?   Asian-Pac-Islander   Female   \n",
       "\n",
       "       capital_gain  capital_loss  working_hours_per_week  native_country  \\\n",
       "6834              0             0                      35   United-States   \n",
       "3228              0             0                      40   United-States   \n",
       "23711             0          2205                      40   United-States   \n",
       "2760              0             0                      25   United-States   \n",
       "14672             0             0                      40            Hong   \n",
       "\n",
       "       salary  \n",
       "6834     >50K  \n",
       "3228    <=50K  \n",
       "23711   <=50K  \n",
       "2760    <=50K  \n",
       "14672   <=50K  "
      ]
     },
     "execution_count": 13,
     "metadata": {},
     "output_type": "execute_result"
    }
   ],
   "source": [
    "data[data['workclass'] ==' ?'].sample(5)"
   ]
  },
  {
   "cell_type": "markdown",
   "id": "handed-bracket",
   "metadata": {},
   "source": [
    "* From the sample it looks like wherever workclass is missing occupation is also missing. \n",
    "* It looks like for ? observations in workclass the native country is the United States.\n",
    "* Let's see if the above observations hold."
   ]
  },
  {
   "cell_type": "code",
   "execution_count": 14,
   "id": "deluxe-builder",
   "metadata": {},
   "outputs": [
    {
     "data": {
      "text/plain": [
       " ?    1836\n",
       "Name: occupation, dtype: int64"
      ]
     },
     "execution_count": 14,
     "metadata": {},
     "output_type": "execute_result"
    }
   ],
   "source": [
    "data[data['workclass'] ==' ?']['occupation'].value_counts()"
   ]
  },
  {
   "cell_type": "markdown",
   "id": "figured-pressure",
   "metadata": {},
   "source": [
    "* It is indeed true that wherever workclass has ? the occupation is also ?\n",
    "* This indicates there is a strong pattern in the missingness of workclass and occupation. This is intuitive as well because both the columns are capturing similar information."
   ]
  },
  {
   "cell_type": "code",
   "execution_count": 15,
   "id": "configured-correlation",
   "metadata": {},
   "outputs": [
    {
     "data": {
      "text/plain": [
       " United-States         1659\n",
       " Mexico                  33\n",
       " ?                       27\n",
       " Canada                  14\n",
       " Philippines             10\n",
       " Germany                  9\n",
       " South                    9\n",
       " Taiwan                   9\n",
       " China                    7\n",
       " El-Salvador              6\n",
       " Puerto-Rico              5\n",
       " Italy                    5\n",
       " Poland                   4\n",
       " England                  4\n",
       " Portugal                 3\n",
       " Dominican-Republic       3\n",
       " Columbia                 3\n",
       " Japan                    3\n",
       " Cuba                     3\n",
       " Vietnam                  3\n",
       " France                   2\n",
       " Haiti                    2\n",
       " Guatemala                1\n",
       " Scotland                 1\n",
       " Trinadad&Tobago          1\n",
       " Jamaica                  1\n",
       " Honduras                 1\n",
       " Peru                     1\n",
       " Hong                     1\n",
       " Thailand                 1\n",
       " Cambodia                 1\n",
       " Laos                     1\n",
       " Ecuador                  1\n",
       " Iran                     1\n",
       " Nicaragua                1\n",
       "Name: native_country, dtype: int64"
      ]
     },
     "execution_count": 15,
     "metadata": {},
     "output_type": "execute_result"
    }
   ],
   "source": [
    "data[data['workclass'] ==' ?']['native_country'].value_counts()"
   ]
  },
  {
   "cell_type": "markdown",
   "id": "clean-scientist",
   "metadata": {},
   "source": [
    "* The above observations don't hold for native_country as there many other countries where the observations are ?."
   ]
  },
  {
   "cell_type": "markdown",
   "id": "bright-joint",
   "metadata": {},
   "source": [
    "#### occupation"
   ]
  },
  {
   "cell_type": "code",
   "execution_count": 16,
   "id": "double-gregory",
   "metadata": {},
   "outputs": [
    {
     "data": {
      "text/html": [
       "<div>\n",
       "<style scoped>\n",
       "    .dataframe tbody tr th:only-of-type {\n",
       "        vertical-align: middle;\n",
       "    }\n",
       "\n",
       "    .dataframe tbody tr th {\n",
       "        vertical-align: top;\n",
       "    }\n",
       "\n",
       "    .dataframe thead th {\n",
       "        text-align: right;\n",
       "    }\n",
       "</style>\n",
       "<table border=\"1\" class=\"dataframe\">\n",
       "  <thead>\n",
       "    <tr style=\"text-align: right;\">\n",
       "      <th></th>\n",
       "      <th>age</th>\n",
       "      <th>workclass</th>\n",
       "      <th>fnlwgt</th>\n",
       "      <th>education</th>\n",
       "      <th>education_no_of_years</th>\n",
       "      <th>marital_status</th>\n",
       "      <th>occupation</th>\n",
       "      <th>race</th>\n",
       "      <th>sex</th>\n",
       "      <th>capital_gain</th>\n",
       "      <th>capital_loss</th>\n",
       "      <th>working_hours_per_week</th>\n",
       "      <th>native_country</th>\n",
       "      <th>salary</th>\n",
       "    </tr>\n",
       "  </thead>\n",
       "  <tbody>\n",
       "    <tr>\n",
       "      <th>6733</th>\n",
       "      <td>21</td>\n",
       "      <td>?</td>\n",
       "      <td>152328</td>\n",
       "      <td>Some-college</td>\n",
       "      <td>10</td>\n",
       "      <td>Never-married</td>\n",
       "      <td>?</td>\n",
       "      <td>White</td>\n",
       "      <td>Male</td>\n",
       "      <td>0</td>\n",
       "      <td>0</td>\n",
       "      <td>20</td>\n",
       "      <td>United-States</td>\n",
       "      <td>&lt;=50K</td>\n",
       "    </tr>\n",
       "    <tr>\n",
       "      <th>11732</th>\n",
       "      <td>76</td>\n",
       "      <td>?</td>\n",
       "      <td>312500</td>\n",
       "      <td>5th-6th</td>\n",
       "      <td>3</td>\n",
       "      <td>Widowed</td>\n",
       "      <td>?</td>\n",
       "      <td>White</td>\n",
       "      <td>Female</td>\n",
       "      <td>0</td>\n",
       "      <td>0</td>\n",
       "      <td>40</td>\n",
       "      <td>United-States</td>\n",
       "      <td>&lt;=50K</td>\n",
       "    </tr>\n",
       "    <tr>\n",
       "      <th>20314</th>\n",
       "      <td>23</td>\n",
       "      <td>?</td>\n",
       "      <td>296613</td>\n",
       "      <td>Some-college</td>\n",
       "      <td>10</td>\n",
       "      <td>Never-married</td>\n",
       "      <td>?</td>\n",
       "      <td>White</td>\n",
       "      <td>Female</td>\n",
       "      <td>0</td>\n",
       "      <td>0</td>\n",
       "      <td>32</td>\n",
       "      <td>United-States</td>\n",
       "      <td>&lt;=50K</td>\n",
       "    </tr>\n",
       "    <tr>\n",
       "      <th>11340</th>\n",
       "      <td>30</td>\n",
       "      <td>?</td>\n",
       "      <td>288419</td>\n",
       "      <td>5th-6th</td>\n",
       "      <td>3</td>\n",
       "      <td>Married-civ-spouse</td>\n",
       "      <td>?</td>\n",
       "      <td>White</td>\n",
       "      <td>Male</td>\n",
       "      <td>0</td>\n",
       "      <td>0</td>\n",
       "      <td>40</td>\n",
       "      <td>Mexico</td>\n",
       "      <td>&lt;=50K</td>\n",
       "    </tr>\n",
       "    <tr>\n",
       "      <th>3439</th>\n",
       "      <td>40</td>\n",
       "      <td>?</td>\n",
       "      <td>162108</td>\n",
       "      <td>Bachelors</td>\n",
       "      <td>13</td>\n",
       "      <td>Divorced</td>\n",
       "      <td>?</td>\n",
       "      <td>White</td>\n",
       "      <td>Female</td>\n",
       "      <td>0</td>\n",
       "      <td>0</td>\n",
       "      <td>50</td>\n",
       "      <td>United-States</td>\n",
       "      <td>&lt;=50K</td>\n",
       "    </tr>\n",
       "  </tbody>\n",
       "</table>\n",
       "</div>"
      ],
      "text/plain": [
       "       age workclass  fnlwgt      education  education_no_of_years  \\\n",
       "6733    21         ?  152328   Some-college                     10   \n",
       "11732   76         ?  312500        5th-6th                      3   \n",
       "20314   23         ?  296613   Some-college                     10   \n",
       "11340   30         ?  288419        5th-6th                      3   \n",
       "3439    40         ?  162108      Bachelors                     13   \n",
       "\n",
       "            marital_status occupation    race      sex  capital_gain  \\\n",
       "6733         Never-married          ?   White     Male             0   \n",
       "11732              Widowed          ?   White   Female             0   \n",
       "20314        Never-married          ?   White   Female             0   \n",
       "11340   Married-civ-spouse          ?   White     Male             0   \n",
       "3439              Divorced          ?   White   Female             0   \n",
       "\n",
       "       capital_loss  working_hours_per_week  native_country  salary  \n",
       "6733              0                      20   United-States   <=50K  \n",
       "11732             0                      40   United-States   <=50K  \n",
       "20314             0                      32   United-States   <=50K  \n",
       "11340             0                      40          Mexico   <=50K  \n",
       "3439              0                      50   United-States   <=50K  "
      ]
     },
     "execution_count": 16,
     "metadata": {},
     "output_type": "execute_result"
    }
   ],
   "source": [
    "data[data['occupation'] ==' ?'].sample(5)"
   ]
  },
  {
   "cell_type": "code",
   "execution_count": 17,
   "id": "plastic-measure",
   "metadata": {},
   "outputs": [
    {
     "data": {
      "text/plain": [
       " ?               1836\n",
       " Never-worked       7\n",
       "Name: workclass, dtype: int64"
      ]
     },
     "execution_count": 17,
     "metadata": {},
     "output_type": "execute_result"
    }
   ],
   "source": [
    "data[data['occupation'] ==' ?']['workclass'].value_counts()"
   ]
  },
  {
   "cell_type": "markdown",
   "id": "relevant-gallery",
   "metadata": {},
   "source": [
    "* We observe the same pattern here, where occupation is ? most of the values in workclass are ?."
   ]
  },
  {
   "cell_type": "code",
   "execution_count": 18,
   "id": "micro-plaintiff",
   "metadata": {},
   "outputs": [
    {
     "data": {
      "text/plain": [
       " United-States         1666\n",
       " Mexico                  33\n",
       " ?                       27\n",
       " Canada                  14\n",
       " Philippines             10\n",
       " Germany                  9\n",
       " South                    9\n",
       " Taiwan                   9\n",
       " China                    7\n",
       " El-Salvador              6\n",
       " Puerto-Rico              5\n",
       " Italy                    5\n",
       " Poland                   4\n",
       " England                  4\n",
       " Portugal                 3\n",
       " Dominican-Republic       3\n",
       " Columbia                 3\n",
       " Japan                    3\n",
       " Cuba                     3\n",
       " Vietnam                  3\n",
       " France                   2\n",
       " Haiti                    2\n",
       " Guatemala                1\n",
       " Scotland                 1\n",
       " Trinadad&Tobago          1\n",
       " Jamaica                  1\n",
       " Honduras                 1\n",
       " Peru                     1\n",
       " Hong                     1\n",
       " Thailand                 1\n",
       " Cambodia                 1\n",
       " Laos                     1\n",
       " Ecuador                  1\n",
       " Iran                     1\n",
       " Nicaragua                1\n",
       "Name: native_country, dtype: int64"
      ]
     },
     "execution_count": 18,
     "metadata": {},
     "output_type": "execute_result"
    }
   ],
   "source": [
    "data[data['occupation'] ==' ?']['native_country'].value_counts()"
   ]
  },
  {
   "cell_type": "markdown",
   "id": "loaded-comparison",
   "metadata": {},
   "source": [
    "* The native_country column has other countries where the observations are ? corresponding to ?s in occupation."
   ]
  },
  {
   "cell_type": "markdown",
   "id": "cooked-fireplace",
   "metadata": {},
   "source": [
    "#### native_country"
   ]
  },
  {
   "cell_type": "code",
   "execution_count": 19,
   "id": "sacred-pakistan",
   "metadata": {},
   "outputs": [
    {
     "data": {
      "text/html": [
       "<div>\n",
       "<style scoped>\n",
       "    .dataframe tbody tr th:only-of-type {\n",
       "        vertical-align: middle;\n",
       "    }\n",
       "\n",
       "    .dataframe tbody tr th {\n",
       "        vertical-align: top;\n",
       "    }\n",
       "\n",
       "    .dataframe thead th {\n",
       "        text-align: right;\n",
       "    }\n",
       "</style>\n",
       "<table border=\"1\" class=\"dataframe\">\n",
       "  <thead>\n",
       "    <tr style=\"text-align: right;\">\n",
       "      <th></th>\n",
       "      <th>age</th>\n",
       "      <th>workclass</th>\n",
       "      <th>fnlwgt</th>\n",
       "      <th>education</th>\n",
       "      <th>education_no_of_years</th>\n",
       "      <th>marital_status</th>\n",
       "      <th>occupation</th>\n",
       "      <th>race</th>\n",
       "      <th>sex</th>\n",
       "      <th>capital_gain</th>\n",
       "      <th>capital_loss</th>\n",
       "      <th>working_hours_per_week</th>\n",
       "      <th>native_country</th>\n",
       "      <th>salary</th>\n",
       "    </tr>\n",
       "  </thead>\n",
       "  <tbody>\n",
       "    <tr>\n",
       "      <th>18438</th>\n",
       "      <td>31</td>\n",
       "      <td>Private</td>\n",
       "      <td>217962</td>\n",
       "      <td>Some-college</td>\n",
       "      <td>10</td>\n",
       "      <td>Never-married</td>\n",
       "      <td>Protective-serv</td>\n",
       "      <td>Black</td>\n",
       "      <td>Male</td>\n",
       "      <td>0</td>\n",
       "      <td>0</td>\n",
       "      <td>40</td>\n",
       "      <td>?</td>\n",
       "      <td>&lt;=50K</td>\n",
       "    </tr>\n",
       "    <tr>\n",
       "      <th>23784</th>\n",
       "      <td>51</td>\n",
       "      <td>Private</td>\n",
       "      <td>178054</td>\n",
       "      <td>Some-college</td>\n",
       "      <td>10</td>\n",
       "      <td>Married-civ-spouse</td>\n",
       "      <td>Sales</td>\n",
       "      <td>White</td>\n",
       "      <td>Male</td>\n",
       "      <td>0</td>\n",
       "      <td>0</td>\n",
       "      <td>40</td>\n",
       "      <td>?</td>\n",
       "      <td>&gt;50K</td>\n",
       "    </tr>\n",
       "    <tr>\n",
       "      <th>5309</th>\n",
       "      <td>41</td>\n",
       "      <td>Private</td>\n",
       "      <td>70037</td>\n",
       "      <td>Some-college</td>\n",
       "      <td>10</td>\n",
       "      <td>Never-married</td>\n",
       "      <td>Craft-repair</td>\n",
       "      <td>White</td>\n",
       "      <td>Male</td>\n",
       "      <td>0</td>\n",
       "      <td>3004</td>\n",
       "      <td>60</td>\n",
       "      <td>?</td>\n",
       "      <td>&gt;50K</td>\n",
       "    </tr>\n",
       "    <tr>\n",
       "      <th>22106</th>\n",
       "      <td>24</td>\n",
       "      <td>State-gov</td>\n",
       "      <td>27939</td>\n",
       "      <td>Some-college</td>\n",
       "      <td>10</td>\n",
       "      <td>Married-civ-spouse</td>\n",
       "      <td>Other-service</td>\n",
       "      <td>Asian-Pac-Islander</td>\n",
       "      <td>Male</td>\n",
       "      <td>0</td>\n",
       "      <td>0</td>\n",
       "      <td>24</td>\n",
       "      <td>?</td>\n",
       "      <td>&lt;=50K</td>\n",
       "    </tr>\n",
       "    <tr>\n",
       "      <th>6319</th>\n",
       "      <td>38</td>\n",
       "      <td>Private</td>\n",
       "      <td>189404</td>\n",
       "      <td>HS-grad</td>\n",
       "      <td>9</td>\n",
       "      <td>Married-spouse-absent</td>\n",
       "      <td>Other-service</td>\n",
       "      <td>White</td>\n",
       "      <td>Male</td>\n",
       "      <td>0</td>\n",
       "      <td>0</td>\n",
       "      <td>35</td>\n",
       "      <td>?</td>\n",
       "      <td>&lt;=50K</td>\n",
       "    </tr>\n",
       "  </tbody>\n",
       "</table>\n",
       "</div>"
      ],
      "text/plain": [
       "       age   workclass  fnlwgt      education  education_no_of_years  \\\n",
       "18438   31     Private  217962   Some-college                     10   \n",
       "23784   51     Private  178054   Some-college                     10   \n",
       "5309    41     Private   70037   Some-college                     10   \n",
       "22106   24   State-gov   27939   Some-college                     10   \n",
       "6319    38     Private  189404        HS-grad                      9   \n",
       "\n",
       "               marital_status        occupation                 race    sex  \\\n",
       "18438           Never-married   Protective-serv                Black   Male   \n",
       "23784      Married-civ-spouse             Sales                White   Male   \n",
       "5309            Never-married      Craft-repair                White   Male   \n",
       "22106      Married-civ-spouse     Other-service   Asian-Pac-Islander   Male   \n",
       "6319    Married-spouse-absent     Other-service                White   Male   \n",
       "\n",
       "       capital_gain  capital_loss  working_hours_per_week native_country  \\\n",
       "18438             0             0                      40              ?   \n",
       "23784             0             0                      40              ?   \n",
       "5309              0          3004                      60              ?   \n",
       "22106             0             0                      24              ?   \n",
       "6319              0             0                      35              ?   \n",
       "\n",
       "       salary  \n",
       "18438   <=50K  \n",
       "23784    >50K  \n",
       "5309     >50K  \n",
       "22106   <=50K  \n",
       "6319    <=50K  "
      ]
     },
     "execution_count": 19,
     "metadata": {},
     "output_type": "execute_result"
    }
   ],
   "source": [
    "data[data['native_country'] ==' ?'].sample(5)"
   ]
  },
  {
   "cell_type": "code",
   "execution_count": 20,
   "id": "olympic-adolescent",
   "metadata": {},
   "outputs": [
    {
     "data": {
      "text/plain": [
       " Prof-specialty       102\n",
       " Other-service         83\n",
       " Exec-managerial       74\n",
       " Craft-repair          69\n",
       " Sales                 66\n",
       " Adm-clerical          49\n",
       " Machine-op-inspct     36\n",
       " ?                     27\n",
       " Transport-moving      25\n",
       " Handlers-cleaners     20\n",
       " Tech-support          16\n",
       " Priv-house-serv        6\n",
       " Protective-serv        5\n",
       " Farming-fishing        5\n",
       "Name: occupation, dtype: int64"
      ]
     },
     "execution_count": 20,
     "metadata": {},
     "output_type": "execute_result"
    }
   ],
   "source": [
    "data[data['native_country'] ==' ?']['occupation'].value_counts()"
   ]
  },
  {
   "cell_type": "code",
   "execution_count": 21,
   "id": "civilian-shepherd",
   "metadata": {},
   "outputs": [
    {
     "data": {
      "text/plain": [
       " Private             410\n",
       " Self-emp-inc         42\n",
       " Self-emp-not-inc     42\n",
       " ?                    27\n",
       " Local-gov            26\n",
       " State-gov            19\n",
       " Federal-gov          17\n",
       "Name: workclass, dtype: int64"
      ]
     },
     "execution_count": 21,
     "metadata": {},
     "output_type": "execute_result"
    }
   ],
   "source": [
    "data[data['native_country'] ==' ?']['workclass'].value_counts()"
   ]
  },
  {
   "cell_type": "markdown",
   "id": "freelance-lottery",
   "metadata": {},
   "source": [
    "* There is no clear pattern here."
   ]
  },
  {
   "cell_type": "markdown",
   "id": "waiting-passport",
   "metadata": {},
   "source": [
    "#### Observations:\n",
    "* We observe that all the observations where workclass = ? the values in the occupation are ? \n",
    "* The strong pattern between workclass and occupation makes sense as both of these variables capture similar information.\n",
    "* There is no strong correlation of ? observations in occupation and workclass with native_country.\n",
    "* For now we will replace these ?'s with the 'unknown' category."
   ]
  },
  {
   "cell_type": "markdown",
   "id": "particular-shannon",
   "metadata": {},
   "source": [
    "#### Replacing ? with 'Unknown'"
   ]
  },
  {
   "cell_type": "code",
   "execution_count": 22,
   "id": "leading-tracker",
   "metadata": {
    "id": "d-SZuewJ9WJ-"
   },
   "outputs": [],
   "source": [
    "data.workclass = data.workclass.apply(lambda x: 'Unknown' if x == ' ?' else x)\n",
    "data.native_country = data.native_country.apply(lambda x: 'Unknown' if x == ' ?' else x)\n",
    "data.occupation = data.occupation.apply(lambda x: 'Unknown' if x == ' ?' else x)"
   ]
  },
  {
   "cell_type": "markdown",
   "id": "dressed-yemen",
   "metadata": {},
   "source": [
    "#### Mapping countries to continents to reduce the number of unique values."
   ]
  },
  {
   "cell_type": "code",
   "execution_count": 23,
   "id": "unique-handling",
   "metadata": {},
   "outputs": [
    {
     "data": {
      "text/plain": [
       "42"
      ]
     },
     "execution_count": 23,
     "metadata": {},
     "output_type": "execute_result"
    }
   ],
   "source": [
    "data.native_country.nunique()"
   ]
  },
  {
   "cell_type": "markdown",
   "id": "liquid-sodium",
   "metadata": {
    "colab": {
     "base_uri": "https://localhost:8080/"
    },
    "id": "0ZSir3jF9WKA",
    "outputId": "e0ac41c1-de06-4599-c6f1-3f3f8447cf10"
   },
   "source": [
    "* There are 42 distinct countries in the data set, we can reduce them to their respective continents as this will help us reduce the dimension of data."
   ]
  },
  {
   "cell_type": "code",
   "execution_count": 24,
   "id": "structured-steel",
   "metadata": {
    "id": "JWuabviJ9WKD"
   },
   "outputs": [],
   "source": [
    "data.native_country = data.native_country.str.replace(' ','') # remove empty spaces from strings"
   ]
  },
  {
   "cell_type": "code",
   "execution_count": 25,
   "id": "informational-advertising",
   "metadata": {
    "id": "RaVHYsJd9WKF"
   },
   "outputs": [],
   "source": [
    "north_america  = [\"Canada\", \"Cuba\", \"Dominican-Republic\", \"El-Salvador\", \"Guatemala\",\n",
    "                   \"Haiti\", \"Honduras\", \"Jamaica\", \"Mexico\", \"Nicaragua\",\n",
    "                   \"Outlying-US(Guam-USVI-etc)\", \"Puerto-Rico\", \"Trinadad&Tobago\",\n",
    "                   \"United-States\"]\n",
    "asia  = [\"Cambodia\", \"China\", \"Hong\", \"India\", \"Iran\", \"Japan\", \"Laos\",\n",
    "          \"Philippines\", \"Taiwan\", \"Thailand\", \"Vietnam\"]\n",
    "south_america = [\"Columbia\", \"Ecuador\", \"Peru\"]\n",
    "europe = [\"England\", \"France\", \"Germany\", \"Greece\", \"Holand-Netherlands\",\n",
    "            \"Hungary\", \"Ireland\", \"Italy\", \"Poland\", \"Portugal\", \"Scotland\",\n",
    "            \"Yugoslavia\"]\n",
    "other  = [\"South\", \"Unknown\",\"?\"]"
   ]
  },
  {
   "cell_type": "code",
   "execution_count": 26,
   "id": "latest-private",
   "metadata": {
    "id": "ICxgTn2t9WKH"
   },
   "outputs": [],
   "source": [
    "def region_combining(x):\n",
    "    if x in north_america:\n",
    "        return 'north_america'\n",
    "    elif x in asia:\n",
    "        return 'asia'\n",
    "    elif x in south_america:\n",
    "        return 'south_america'\n",
    "    elif x in europe:\n",
    "        return 'europe'\n",
    "    elif x in other:\n",
    "        return 'other'\n",
    "    else:\n",
    "        return x"
   ]
  },
  {
   "cell_type": "code",
   "execution_count": 27,
   "id": "prerequisite-owner",
   "metadata": {
    "id": "NnJUQlYm9WKM"
   },
   "outputs": [],
   "source": [
    "data['native_country'] = data['native_country'].apply(region_combining)"
   ]
  },
  {
   "cell_type": "code",
   "execution_count": 28,
   "id": "behavioral-electronics",
   "metadata": {},
   "outputs": [
    {
     "name": "stdout",
     "output_type": "stream",
     "text": [
      "Distinct values in Native Country column: 5\n"
     ]
    }
   ],
   "source": [
    "print('Distinct values in Native Country column:', data.native_country.nunique())"
   ]
  },
  {
   "cell_type": "markdown",
   "id": "short-elimination",
   "metadata": {},
   "source": [
    "#### Reducing the number of distinct values in marital_status"
   ]
  },
  {
   "cell_type": "code",
   "execution_count": 29,
   "id": "wanted-front",
   "metadata": {},
   "outputs": [
    {
     "data": {
      "text/plain": [
       "array([' Never-married', ' Married-civ-spouse', ' Divorced',\n",
       "       ' Married-spouse-absent', ' Separated', ' Married-AF-spouse',\n",
       "       ' Widowed'], dtype=object)"
      ]
     },
     "execution_count": 29,
     "metadata": {},
     "output_type": "execute_result"
    }
   ],
   "source": [
    "data.marital_status.unique()"
   ]
  },
  {
   "cell_type": "markdown",
   "id": "banned-affiliate",
   "metadata": {},
   "source": [
    "We can reduce these values into the following groups:\n",
    "* Married\n",
    "* Not-Married\n",
    "* Never-Married"
   ]
  },
  {
   "cell_type": "code",
   "execution_count": 30,
   "id": "furnished-grain",
   "metadata": {
    "id": "8dnUp7zb9WKO"
   },
   "outputs": [],
   "source": [
    "data.marital_status = data.marital_status.str.replace(' ','') # remove empty spaces from strings\n",
    "\n",
    "married = ['Married-civ-spouse','Married-AF-spouse']\n",
    "not_married = ['Divorced','Separated','Widowed','Married-spouse-absent']\n",
    "\n",
    "def reduce_marital_status(x):\n",
    "    if x in married:\n",
    "        return 'married'\n",
    "    elif x in not_married:\n",
    "        return 'not_married'\n",
    "    else:\n",
    "        return x"
   ]
  },
  {
   "cell_type": "code",
   "execution_count": 31,
   "id": "conceptual-primary",
   "metadata": {
    "id": "gYG1pieB9WKP"
   },
   "outputs": [],
   "source": [
    "data.marital_status = data.marital_status.apply(reduce_marital_status)"
   ]
  },
  {
   "cell_type": "code",
   "execution_count": 32,
   "id": "artistic-element",
   "metadata": {
    "colab": {
     "base_uri": "https://localhost:8080/"
    },
    "id": "NDdrqItt9WKS",
    "outputId": "f760d042-5202-402a-9829-c07061fc6b9c"
   },
   "outputs": [
    {
     "data": {
      "text/plain": [
       "array(['Never-married', 'married', 'not_married'], dtype=object)"
      ]
     },
     "execution_count": 32,
     "metadata": {},
     "output_type": "execute_result"
    }
   ],
   "source": [
    "data.marital_status.unique()"
   ]
  },
  {
   "cell_type": "markdown",
   "id": "whole-enclosure",
   "metadata": {},
   "source": [
    "* Values have been clubbed into three categories."
   ]
  },
  {
   "cell_type": "markdown",
   "id": "peaceful-header",
   "metadata": {
    "id": "L7Drz5w_9WKV"
   },
   "source": [
    "## Univariate Analysis"
   ]
  },
  {
   "cell_type": "code",
   "execution_count": 33,
   "id": "possible-mathematics",
   "metadata": {
    "id": "hEBzp-zs9WKV"
   },
   "outputs": [],
   "source": [
    "# While doing uni-variate analysis of numerical variables we want to study their central tendency \n",
    "# and dispersion.\n",
    "# Let us write a function that will help us create boxplot and histogram for any input numerical \n",
    "# variable.\n",
    "# This function takes the numerical column as the input and returns the boxplots \n",
    "# and histograms for the variable.\n",
    "# Let us see if this help us write faster and cleaner code.\n",
    "def histogram_boxplot(feature, figsize=(15,10), bins = None):\n",
    "    \"\"\" Boxplot and histogram combined\n",
    "    feature: 1-d feature array\n",
    "    figsize: size of fig (default (9,8))\n",
    "    bins: number of bins (default None / auto)\n",
    "    \"\"\"\n",
    "    f2, (ax_box2, ax_hist2) = plt.subplots(nrows = 2, # Number of rows of the subplot grid= 2\n",
    "                                           sharex = True, # x-axis will be shared among all subplots\n",
    "                                           gridspec_kw = {\"height_ratios\": (.25, .75)}, \n",
    "                                           figsize = figsize \n",
    "                                           ) # creating the 2 subplots\n",
    "    sns.boxplot(feature, ax=ax_box2, showmeans=True, color='violet') # boxplot will be created and a star will indicate the mean value of the column\n",
    "    sns.distplot(feature, kde=F, ax=ax_hist2, bins=bins,color = 'orange') if bins else sns.distplot(feature, kde=False, ax=ax_hist2,color='tab:cyan') # For histogram\n",
    "    ax_hist2.axvline(np.mean(feature), color='purple', linestyle='--') # Add mean to the histogram\n",
    "    ax_hist2.axvline(np.median(feature), color='black', linestyle='-') # Add median to the histogram"
   ]
  },
  {
   "cell_type": "markdown",
   "id": "earlier-peoples",
   "metadata": {
    "id": "AlEBrVr39WKa"
   },
   "source": [
    "### Observations on fnlwgt"
   ]
  },
  {
   "cell_type": "code",
   "execution_count": 34,
   "id": "desirable-bathroom",
   "metadata": {
    "colab": {
     "base_uri": "https://localhost:8080/",
     "height": 632
    },
    "id": "_IWOPknr9WKb",
    "outputId": "bc9a8b3e-169c-4227-e171-499e9e3f6db9"
   },
   "outputs": [
    {
     "data": {
      "image/png": "[encoded data removed]",
      "text/plain": [
       "<Figure size 1080x720 with 2 Axes>"
      ]
     },
     "metadata": {
      "needs_background": "light"
     },
     "output_type": "display_data"
    }
   ],
   "source": [
    "histogram_boxplot(data.fnlwgt)"
   ]
  },
  {
   "cell_type": "markdown",
   "id": "addressed-stationery",
   "metadata": {
    "id": "CC8vyGOh9WKc"
   },
   "source": [
    "* fnlwght is right-skewed. It has lots of outliers on the right side which we can cap."
   ]
  },
  {
   "cell_type": "markdown",
   "id": "fitting-mining",
   "metadata": {
    "id": "dsoZ6CBQ9WKm"
   },
   "source": [
    "### Observations on hours_per_week"
   ]
  },
  {
   "cell_type": "code",
   "execution_count": 35,
   "id": "acting-center",
   "metadata": {
    "colab": {
     "base_uri": "https://localhost:8080/",
     "height": 633
    },
    "id": "PhStxB749WKm",
    "outputId": "7d990ab7-0a70-45a4-e151-3d36d3db45ca"
   },
   "outputs": [
    {
     "data": {
      "image/png": "[encoded data removed]",
      "text/plain": [
       "<Figure size 1080x720 with 2 Axes>"
      ]
     },
     "metadata": {
      "needs_background": "light"
     },
     "output_type": "display_data"
    }
   ],
   "source": [
    "histogram_boxplot(data.working_hours_per_week)"
   ]
  },
  {
   "cell_type": "markdown",
   "id": "global-hughes",
   "metadata": {
    "id": "8NOg3r3d9WKo"
   },
   "source": [
    "* Most of the data is concentrated around 40 working hours this gives a sense that most of the observations in data might be salaried employees working 8hrs 5 days a week.\n",
    "* Some of the observations are clear outliers like working  1 hour a week which needs to be treated."
   ]
  },
  {
   "cell_type": "code",
   "execution_count": 36,
   "id": "played-mistake",
   "metadata": {},
   "outputs": [],
   "source": [
    "# Function to create barplots that indicate percentage for each category.\n",
    "\n",
    "def perc_on_bar(z):\n",
    "    '''\n",
    "    plot\n",
    "    feature: categorical feature\n",
    "    the function won't work if a column is passed in hue parameter\n",
    "    '''\n",
    "\n",
    "    total = len(data[z]) # length of the column\n",
    "    plt.figure(figsize=(15,5))\n",
    "    #plt.xticks(rotation=45)\n",
    "    ax = sns.countplot(data[z],palette='Paired')\n",
    "    for p in ax.patches:\n",
    "        percentage = '{:.1f}%'.format(100 * p.get_height()/total) # percentage of each class of the category\n",
    "        x = p.get_x() + p.get_width() / 2 - 0.05 # width of the plot\n",
    "        y = p.get_y() + p.get_height()           # hieght of the plot\n",
    "        \n",
    "        ax.annotate(percentage, (x, y), size = 12) # annotate the percantage \n",
    "    plt.show() # show the plot"
   ]
  },
  {
   "cell_type": "markdown",
   "id": "liquid-sauce",
   "metadata": {
    "id": "O7aOYV_y9WKp"
   },
   "source": [
    "### Observations on workclass"
   ]
  },
  {
   "cell_type": "code",
   "execution_count": 37,
   "id": "radio-parliament",
   "metadata": {},
   "outputs": [
    {
     "data": {
      "image/png": "[encoded data removed]",
      "text/plain": [
       "<Figure size 1080x360 with 1 Axes>"
      ]
     },
     "metadata": {
      "needs_background": "light"
     },
     "output_type": "display_data"
    }
   ],
   "source": [
    "perc_on_bar('workclass')"
   ]
  },
  {
   "cell_type": "markdown",
   "id": "secondary-scroll",
   "metadata": {},
   "source": [
    "* ~70% of the observations are from the Private sector working class.\n",
    "* As expected from the number of hours per week."
   ]
  },
  {
   "cell_type": "markdown",
   "id": "quick-living",
   "metadata": {
    "id": "O7aOYV_y9WKp"
   },
   "source": [
    "### Observations on marital_status"
   ]
  },
  {
   "cell_type": "code",
   "execution_count": 38,
   "id": "handy-bangkok",
   "metadata": {},
   "outputs": [
    {
     "data": {
      "image/png": "[encoded data removed]",
      "text/plain": [
       "<Figure size 1080x360 with 1 Axes>"
      ]
     },
     "metadata": {
      "needs_background": "light"
     },
     "output_type": "display_data"
    }
   ],
   "source": [
    "perc_on_bar('marital_status')"
   ]
  },
  {
   "cell_type": "markdown",
   "id": "norman-person",
   "metadata": {},
   "source": [
    "* 47.3% of the observations in the dataset are married followed by 32.8% of the people who never married."
   ]
  },
  {
   "cell_type": "markdown",
   "id": "featured-exemption",
   "metadata": {
    "id": "O7aOYV_y9WKp"
   },
   "source": [
    "### Observations on native_country"
   ]
  },
  {
   "cell_type": "code",
   "execution_count": 39,
   "id": "received-sailing",
   "metadata": {},
   "outputs": [
    {
     "data": {
      "image/png": "[encoded data removed]",
      "text/plain": [
       "<Figure size 1080x360 with 1 Axes>"
      ]
     },
     "metadata": {
      "needs_background": "light"
     },
     "output_type": "display_data"
    }
   ],
   "source": [
    "perc_on_bar('native_country')"
   ]
  },
  {
   "cell_type": "markdown",
   "id": "healthy-slide",
   "metadata": {},
   "source": [
    "* 94% of the people are native to north_america followed by 2.1% Asians."
   ]
  },
  {
   "cell_type": "markdown",
   "id": "elect-passenger",
   "metadata": {
    "id": "O7aOYV_y9WKp"
   },
   "source": [
    "### Observations on salary"
   ]
  },
  {
   "cell_type": "code",
   "execution_count": 40,
   "id": "modular-assist",
   "metadata": {},
   "outputs": [
    {
     "data": {
      "image/png": "[encoded data removed]",
      "text/plain": [
       "<Figure size 1080x360 with 1 Axes>"
      ]
     },
     "metadata": {
      "needs_background": "light"
     },
     "output_type": "display_data"
    }
   ],
   "source": [
    "perc_on_bar('salary')"
   ]
  },
  {
   "cell_type": "markdown",
   "id": "spoken-polls",
   "metadata": {
    "id": "Zjfs5yc39WKr"
   },
   "source": [
    "* 24% of the observations have a salary above 50K and while 76% have a salary below 50K"
   ]
  },
  {
   "cell_type": "markdown",
   "id": "national-creativity",
   "metadata": {
    "id": "3jS63iRW9WKs"
   },
   "source": [
    "## Bivariate analysis"
   ]
  },
  {
   "cell_type": "code",
   "execution_count": 41,
   "id": "geological-yeast",
   "metadata": {},
   "outputs": [
    {
     "data": {
      "image/png": "[encoded data removed]",
      "text/plain": [
       "<Figure size 720x360 with 2 Axes>"
      ]
     },
     "metadata": {
      "needs_background": "light"
     },
     "output_type": "display_data"
    }
   ],
   "source": [
    "plt.figure(figsize=(10,5))\n",
    "sns.heatmap(data.corr(),annot=True,vmin=-1,vmax=1,fmt='.2f',cmap='Spectral')\n",
    "plt.show()"
   ]
  },
  {
   "cell_type": "markdown",
   "id": "skilled-tractor",
   "metadata": {},
   "source": [
    "* There is no significant correlation between the columns."
   ]
  },
  {
   "cell_type": "code",
   "execution_count": 42,
   "id": "ordinary-short",
   "metadata": {},
   "outputs": [],
   "source": [
    "### Function to plot stacked bar charts for categorical columns\n",
    "def stacked_plot(x):\n",
    "    sns.set()\n",
    "    ## crosstab \n",
    "    tab1 = pd.crosstab(x,data['salary'],margins=True).sort_values(by=' >50K',ascending=False)\n",
    "    print(tab1)\n",
    "    print('-'*120)\n",
    "    ## visualising the cross tab\n",
    "    tab = pd.crosstab(x,data['salary'],normalize='index').sort_values(by=' >50K',ascending=False)\n",
    "    tab.plot(kind='bar',stacked=True,figsize=(17,7))\n",
    "    plt.legend(loc='lower left', frameon=False,)\n",
    "    plt.legend(loc=\"upper left\", bbox_to_anchor=(1,1))\n",
    "    plt.show()"
   ]
  },
  {
   "cell_type": "code",
   "execution_count": 43,
   "id": "supposed-hierarchy",
   "metadata": {},
   "outputs": [
    {
     "name": "stdout",
     "output_type": "stream",
     "text": [
      "salary    <=50K   >50K    All\n",
      "sex                          \n",
      "All       24720   7841  32561\n",
      " Male     15128   6662  21790\n",
      " Female    9592   1179  10771\n",
      "------------------------------------------------------------------------------------------------------------------------\n"
     ]
    },
    {
     "data": {
      "image/png": "[encoded data removed]",
      "text/plain": [
       "<Figure size 1224x504 with 1 Axes>"
      ]
     },
     "metadata": {},
     "output_type": "display_data"
    }
   ],
   "source": [
    "stacked_plot(data['sex'])"
   ]
  },
  {
   "cell_type": "markdown",
   "id": "suffering-valley",
   "metadata": {},
   "source": [
    "* ~25% of the males have salary >50K whereas only ~15% of the females have salary >50K.\n",
    "* This shows the pay gap that exists in society and the government should investigate further on it to formulate policy to ensure equal pay."
   ]
  },
  {
   "cell_type": "markdown",
   "id": "continuous-reset",
   "metadata": {
    "id": "ui3naO159WKs"
   },
   "source": [
    "### salary vs education"
   ]
  },
  {
   "cell_type": "code",
   "execution_count": 44,
   "id": "laughing-session",
   "metadata": {},
   "outputs": [
    {
     "name": "stdout",
     "output_type": "stream",
     "text": [
      "salary          <=50K   >50K    All\n",
      "education                          \n",
      "All             24720   7841  32561\n",
      " Bachelors       3134   2221   5355\n",
      " HS-grad         8826   1675  10501\n",
      " Some-college    5904   1387   7291\n",
      " Masters          764    959   1723\n",
      " Prof-school      153    423    576\n",
      " Assoc-voc       1021    361   1382\n",
      " Doctorate        107    306    413\n",
      " Assoc-acdm       802    265   1067\n",
      " 10th             871     62    933\n",
      " 11th            1115     60   1175\n",
      " 7th-8th          606     40    646\n",
      " 12th             400     33    433\n",
      " 9th              487     27    514\n",
      " 5th-6th          317     16    333\n",
      " 1st-4th          162      6    168\n",
      " Preschool         51      0     51\n",
      "------------------------------------------------------------------------------------------------------------------------\n"
     ]
    },
    {
     "data": {
      "image/png": "[encoded data removed]",
      "text/plain": [
       "<Figure size 1224x504 with 1 Axes>"
      ]
     },
     "metadata": {},
     "output_type": "display_data"
    }
   ],
   "source": [
    "stacked_plot(data['education'])"
   ]
  },
  {
   "cell_type": "markdown",
   "id": "boxed-diesel",
   "metadata": {
    "id": "-bVs_9Ju9WKu"
   },
   "source": [
    "* ~70% of the people of are Doctorate, graduate from Professional school program (Prof-school) have a salary above $50K.\n",
    "* This clearly shows a positive relationship between education and salary, the higher the education higher is the salary."
   ]
  },
  {
   "cell_type": "markdown",
   "id": "great-worry",
   "metadata": {
    "id": "XgAfyOaHm6Ew"
   },
   "source": [
    "### salary vs occupation"
   ]
  },
  {
   "cell_type": "code",
   "execution_count": 45,
   "id": "modified-blink",
   "metadata": {},
   "outputs": [
    {
     "name": "stdout",
     "output_type": "stream",
     "text": [
      "salary               <=50K   >50K    All\n",
      "occupation                              \n",
      "All                  24720   7841  32561\n",
      " Exec-managerial      2098   1968   4066\n",
      " Prof-specialty       2281   1859   4140\n",
      " Sales                2667    983   3650\n",
      " Craft-repair         3170    929   4099\n",
      " Adm-clerical         3263    507   3770\n",
      " Transport-moving     1277    320   1597\n",
      " Tech-support          645    283    928\n",
      " Machine-op-inspct    1752    250   2002\n",
      " Protective-serv       438    211    649\n",
      "Unknown               1652    191   1843\n",
      " Other-service        3158    137   3295\n",
      " Farming-fishing       879    115    994\n",
      " Handlers-cleaners    1284     86   1370\n",
      " Armed-Forces            8      1      9\n",
      " Priv-house-serv       148      1    149\n",
      "------------------------------------------------------------------------------------------------------------------------\n"
     ]
    },
    {
     "data": {
      "image/png": "[encoded data removed]",
      "text/plain": [
       "<Figure size 1224x504 with 1 Axes>"
      ]
     },
     "metadata": {},
     "output_type": "display_data"
    }
   ],
   "source": [
    "stacked_plot(data['occupation'])"
   ]
  },
  {
   "cell_type": "markdown",
   "id": "affiliated-recipient",
   "metadata": {
    "id": "Dj5NDHpblxjt"
   },
   "source": [
    "- ~50% of the people whose occupation is of Executive Manager, Professor-speciality have a salary above $50,000\n",
    "- People with occupations like Private house service,handlers-cleaners, farming-fishing have a higher likelihood of having below 50K salary."
   ]
  },
  {
   "cell_type": "markdown",
   "id": "prepared-tuesday",
   "metadata": {
    "id": "WpbA5Fuq9WKu"
   },
   "source": [
    "### salary vs race"
   ]
  },
  {
   "cell_type": "code",
   "execution_count": 46,
   "id": "alpine-voluntary",
   "metadata": {},
   "outputs": [
    {
     "name": "stdout",
     "output_type": "stream",
     "text": [
      "salary                <=50K   >50K    All\n",
      "race                                     \n",
      "All                   24720   7841  32561\n",
      " White                20699   7117  27816\n",
      " Black                 2737    387   3124\n",
      " Asian-Pac-Islander     763    276   1039\n",
      " Amer-Indian-Eskimo     275     36    311\n",
      " Other                  246     25    271\n",
      "------------------------------------------------------------------------------------------------------------------------\n"
     ]
    },
    {
     "data": {
      "image/png": "[encoded data removed]",
      "text/plain": [
       "<Figure size 1224x504 with 1 Axes>"
      ]
     },
     "metadata": {},
     "output_type": "display_data"
    }
   ],
   "source": [
    "stacked_plot(data['race'])"
   ]
  },
  {
   "cell_type": "markdown",
   "id": "medium-zoning",
   "metadata": {
    "id": "rt0uyR4W9WKw"
   },
   "source": [
    "* 25% of the White and Asia-Pacific people have a salary more than 50K salary as compared to people from other race."
   ]
  },
  {
   "cell_type": "markdown",
   "id": "optical-samuel",
   "metadata": {
    "id": "HIB_dcZu9WK0"
   },
   "source": [
    "### salary vs workclass"
   ]
  },
  {
   "cell_type": "code",
   "execution_count": 47,
   "id": "induced-bargain",
   "metadata": {},
   "outputs": [
    {
     "name": "stdout",
     "output_type": "stream",
     "text": [
      "salary              <=50K   >50K    All\n",
      "workclass                              \n",
      "All                 24720   7841  32561\n",
      " Private            17733   4963  22696\n",
      " Self-emp-not-inc    1817    724   2541\n",
      " Self-emp-inc         494    622   1116\n",
      " Local-gov           1476    617   2093\n",
      " Federal-gov          589    371    960\n",
      " State-gov            945    353   1298\n",
      "Unknown              1645    191   1836\n",
      " Never-worked           7      0      7\n",
      " Without-pay           14      0     14\n",
      "------------------------------------------------------------------------------------------------------------------------\n"
     ]
    },
    {
     "data": {
      "image/png": "[encoded data removed]",
      "text/plain": [
       "<Figure size 1224x504 with 1 Axes>"
      ]
     },
     "metadata": {},
     "output_type": "display_data"
    }
   ],
   "source": [
    "stacked_plot(data['workclass'])"
   ]
  },
  {
   "cell_type": "markdown",
   "id": "laden-touch",
   "metadata": {
    "id": "urxkoDCM9WK3"
   },
   "source": [
    "* ~50% of the self-employed people have a salary above 50K followed by ~40% of the federal govt employee who has salary more than 50K.\n",
    "* ~20% of the people working in the private sector earn more than 50K."
   ]
  },
  {
   "cell_type": "markdown",
   "id": "welcome-afternoon",
   "metadata": {
    "id": "eDOk11FY9WK4"
   },
   "source": [
    "### salary vs marital_status"
   ]
  },
  {
   "cell_type": "code",
   "execution_count": 48,
   "id": "objective-client",
   "metadata": {},
   "outputs": [
    {
     "name": "stdout",
     "output_type": "stream",
     "text": [
      "salary           <=50K   >50K    All\n",
      "marital_status                      \n",
      "All              24720   7841  32561\n",
      "married           8297   6702  14999\n",
      "not_married       6231    648   6879\n",
      "Never-married    10192    491  10683\n",
      "------------------------------------------------------------------------------------------------------------------------\n"
     ]
    },
    {
     "data": {
      "image/png": "[encoded data removed]",
      "text/plain": [
       "<Figure size 1224x504 with 1 Axes>"
      ]
     },
     "metadata": {},
     "output_type": "display_data"
    }
   ],
   "source": [
    "stacked_plot(data['marital_status'])"
   ]
  },
  {
   "cell_type": "markdown",
   "id": "built-escape",
   "metadata": {
    "id": "7P8Dx-hV9WK6"
   },
   "source": [
    "* Married people have a higher likelihood of getting a salary above 50K compared to Never Married and Not married people."
   ]
  },
  {
   "cell_type": "code",
   "execution_count": 49,
   "id": "clean-harvey",
   "metadata": {},
   "outputs": [],
   "source": [
    "### Function to plot distributions and Boxplots of customers\n",
    "def plot(x,target='salary'):\n",
    "    fig,axs = plt.subplots(2,2,figsize=(12,10))\n",
    "    axs[0, 0].set_title(f'Distribution of {x} of people with <=50K salary',fontsize=12,fontweight='bold')\n",
    "    sns.distplot(data[(data[target] == ' <=50K')][x],ax=axs[0,0],color='teal')\n",
    "    axs[0, 1].set_title(f\"Distribution of {x} of people with >50K salary\",fontsize=12,fontweight='bold')\n",
    "    sns.distplot(data[(data[target] == ' >50K')][x],ax=axs[0,1],color='orange')\n",
    "    axs[1,0].set_title(f'Boxplot of {x} w.r.t salary',fontsize=12,fontweight='bold')\n",
    "    \n",
    "    line = plt.Line2D((.1,.9),(.5,.5), color='grey', linewidth=1.5,linestyle='--')\n",
    "    fig.add_artist(line)\n",
    "   \n",
    "    sns.boxplot(data[target],data[x],ax=axs[1,0],palette='gist_rainbow',showmeans=True)\n",
    "    axs[1,1].set_title(f'Boxplot of {x} w.r.t salary - Without outliers',fontsize=12,fontweight='bold')\n",
    "    sns.boxplot(data[target],data[x],ax=axs[1,1],showfliers=False,palette='gist_rainbow',showmeans=True) #turning off outliers from boxplot\n",
    "    plt.tight_layout(pad=4)\n",
    "    plt.show()"
   ]
  },
  {
   "cell_type": "markdown",
   "id": "verbal-elder",
   "metadata": {
    "id": "Tf7AqU6K9WLB"
   },
   "source": [
    "### salary vs age"
   ]
  },
  {
   "cell_type": "code",
   "execution_count": 50,
   "id": "cardiovascular-twenty",
   "metadata": {
    "scrolled": false
   },
   "outputs": [
    {
     "data": {
      "image/png": "[encoded data removed]",
      "text/plain": [
       "<Figure size 864x720 with 4 Axes>"
      ]
     },
     "metadata": {},
     "output_type": "display_data"
    }
   ],
   "source": [
    "plot('age')"
   ]
  },
  {
   "cell_type": "markdown",
   "id": "thorough-limit",
   "metadata": {
    "id": "hbZSjGGJ9WLD"
   },
   "source": [
    "* People who more than 50K salary are generally older having an average age of around 48 years.\n",
    "* People who have less than 50K salary have an average age of around 36."
   ]
  },
  {
   "cell_type": "markdown",
   "id": "empirical-density",
   "metadata": {},
   "source": [
    "### salary vs working_hours_per_week"
   ]
  },
  {
   "cell_type": "code",
   "execution_count": 51,
   "id": "latest-matrix",
   "metadata": {
    "colab": {
     "base_uri": "https://localhost:8080/",
     "height": 487
    },
    "id": "3nNI4bsv9WLM",
    "outputId": "f062e838-197e-467e-ba65-b41167656e17"
   },
   "outputs": [
    {
     "data": {
      "image/png": "[encoded data removed]",
      "text/plain": [
       "<Figure size 864x720 with 4 Axes>"
      ]
     },
     "metadata": {},
     "output_type": "display_data"
    }
   ],
   "source": [
    "plot('working_hours_per_week')"
   ]
  },
  {
   "cell_type": "markdown",
   "id": "binary-sensitivity",
   "metadata": {
    "id": "NtJBle6f9WLP"
   },
   "source": [
    "* Majority of people having above 50K salary work around 40 hours per week.\n",
    "* Those having >50K salary have a higher range of working hours as compared to the ones with <=50K, but there are outliers present."
   ]
  },
  {
   "cell_type": "code",
   "execution_count": 52,
   "id": "vietnamese-depression",
   "metadata": {},
   "outputs": [
    {
     "data": {
      "image/png": "[encoded data removed]",
      "text/plain": [
       "<Figure size 1080x864 with 1 Axes>"
      ]
     },
     "metadata": {},
     "output_type": "display_data"
    }
   ],
   "source": [
    "# lets see how working hours per week vary across different occupation\n",
    "plt.figure(figsize=(15,12))\n",
    "sns.boxplot(y=\"workclass\", x=\"working_hours_per_week\", data=data,hue='salary',showfliers=False);"
   ]
  },
  {
   "cell_type": "markdown",
   "id": "formed-auction",
   "metadata": {},
   "source": [
    "* Private sector employees work for more hours to get a salary above 50K.\n",
    "* There's large variability in the working hours of self-employed people which makes sense as they might be working at their ease.\n",
    "* Without pay and never worked will have no income or less than 50K income.\n",
    "* The number of working hours for many government employees is concentrated at 40 hrs a week, which makes sense as government employees generally have fixed working hours."
   ]
  },
  {
   "cell_type": "markdown",
   "id": "dominant-maple",
   "metadata": {},
   "source": [
    "### <a id='link1'>Summary of EDA</a>\n",
    "**Data Description:**\n",
    "\n",
    "* Dependent variable is the salary which is of categorical data type.\n",
    "* age, capital gain, and capital loss are of integer type while other variables are of categorical type\n",
    "* There are no missing values in the dataset.\n",
    "\n",
    "**Data Cleaning:**\n",
    "\n",
    "* We observed that all the observations where workclass = ? the values in the occupation are ? \n",
    "* The strong pattern between workclass and occupation makes sense as both of these variables capture similar information.\n",
    "* There is no strong correlation of ? observations in occupation and workclass with native_country.\n",
    "* For now we will replaced these ?'s with the 'unknown' category.\n",
    "* There are 42 distinct countries in the data set, which were reduced to their respective continents to reduce the dimension of data and we now have only 5 distinct values in the data.\n",
    "* We reduced the distinct groups of marital_status to three categories: Married, Not-Married and Never-Married.\n",
    "\n",
    "**Observations from EDA:**\n",
    "\n",
    "* `age`: Average age of people in the dataset is 38 years, age has a wide range from 17 to 90 years.\n",
    "* `education_no_of_years`: The average education in years is 10 years. There's a large difference between the minimum value and 25th percentile which indicates that there might be outliers present in this variable.\n",
    "* `capital_gain`: There's a huge difference in the 75th percentile and maximum value of capital_gain indicating the presence of outliers. Also, 75% of the observations are 0.\n",
    "* `capital_loss`: Same as capital gain there's a huge difference in the 75th percentile and maximum value indicating the presence of outliers. Also, 75% of the observations are 0.\n",
    "* `working_hours_per_week`: On average people work for 40 hours a week. A vast difference in minimum value and 25th percentile, as well as 75th percentile and the maximum value, indicates that there might be outliers present in the variable.\n",
    "* `fnlwght`: fnlwght is right-skewed. It has lots of outliers on the right side which we can cap.\n",
    "* `working_hours_per_week`: Most of the data is concentrated around 40 working hours this gives a sense that most of the observations in data might be salaried employees working 8hrs 5 days a week. Some of the observations are clear outliers like working  1 hour a week which needs to be treated.\n",
    "* `workclass`: ~70% of the observations are from the Private sector working class.\n",
    "* `marita_status`: 47.3% of the observations in the dataset are married followed by 32.8% of the people who never married.\n",
    "* `race`: * 94% of the people are native to north_america followed by 2.1% Asians.\n",
    "* `salary vs sex`: ~25% of the males have salary >50K whereas only ~15% of the females have salary >50K.\n",
    "* `salary vs occupation`: - ~50% of the people whose occupation is of Executive Manager, Professor-speciality have a salary above 50,000 dollars. People with occupations like Private house service,handlers-cleaners, farming-fishing have a higher likelihood of having below 50K salary.\n",
    "* `salary vs education`: ~70% of the people of are Doctorate, graduate from Professional school program (Prof-school) have a salary above 50K dollars\n",
    "* `salary vs workclass`: ~50% of the self-employed people have a salary above 50K followed by ~40% of the federal govt employee who has salary more than 50K. ~20% of the people working in the private sector earn more than 50K.\n",
    "* `salary vs working_hours_per_week`: Majority of people having above 50K salary work around 40 hours per week.\n",
    "* Private sector employees work for more hours to get a salary above 50K.\n",
    "* There's large variability in the working hours of self-employed people which makes sense as they might be working at their ease.\n",
    "\n",
    "\n",
    "**Actions for data pre-processing:**\n",
    "\n",
    "* Many variables have outliers that need to be treated.\n",
    "* We can drop capital_gain and capital_loss as most of the observations are 0 in these variables, and if the government already knows a person's capital gain or loss it will be easier for them to classify a person into a salary group."
   ]
  },
  {
   "cell_type": "markdown",
   "id": "strong-spain",
   "metadata": {},
   "source": [
    "### Data Pre-Processing"
   ]
  },
  {
   "cell_type": "markdown",
   "id": "german-assessment",
   "metadata": {
    "id": "7Wd46Gf29WLe"
   },
   "source": [
    "* Dropping capital_gain and capital_loss\n",
    "* There are many outliers in the data which we will treat (perform capping of outliers).\n",
    "* All the values smaller than the lower whisker will be assigned the value of the lower whisker, and all the values above the upper whisker will be assigned the value of the upper whisker."
   ]
  },
  {
   "cell_type": "markdown",
   "id": "fifty-lottery",
   "metadata": {},
   "source": [
    "**Dropping capital_gain and capital_loss**"
   ]
  },
  {
   "cell_type": "code",
   "execution_count": 53,
   "id": "identified-class",
   "metadata": {},
   "outputs": [],
   "source": [
    "data.drop(['capital_gain','capital_loss'],axis=1,inplace=True)"
   ]
  },
  {
   "cell_type": "markdown",
   "id": "seasonal-catalyst",
   "metadata": {},
   "source": [
    "**Outliers detection using boxplot**"
   ]
  },
  {
   "cell_type": "code",
   "execution_count": 54,
   "id": "national-transsexual",
   "metadata": {
    "colab": {
     "base_uri": "https://localhost:8080/",
     "height": 774
    },
    "id": "1lWp2Zl99WLe",
    "outputId": "679650a3-78e6-4bf8-c93a-b7f5f1c49be6"
   },
   "outputs": [
    {
     "data": {
      "image/png": "[encoded data removed]",
      "text/plain": [
       "<Figure size 1440x2160 with 4 Axes>"
      ]
     },
     "metadata": {},
     "output_type": "display_data"
    }
   ],
   "source": [
    "numerical_col = data.select_dtypes(include=np.number).columns.tolist()\n",
    "plt.figure(figsize=(20,30))\n",
    "\n",
    "for i, variable in enumerate(numerical_col):\n",
    "                     plt.subplot(5,4,i+1)\n",
    "                     plt.boxplot(data[variable],whis=1.5)\n",
    "                     plt.tight_layout()\n",
    "                     plt.title(variable)\n",
    "\n",
    "plt.show()"
   ]
  },
  {
   "cell_type": "markdown",
   "id": "annual-penalty",
   "metadata": {
    "id": "i9gv73Cj9WLg"
   },
   "source": [
    "* Age and fnlwgt have upper outliers. \n",
    "* education_no_years has lower outliers. \n",
    "* working_hours_per_week has both upper and lower outliers."
   ]
  },
  {
   "cell_type": "markdown",
   "id": "matched-field",
   "metadata": {
    "id": "wlGTPLQA9WLg"
   },
   "source": [
    "### Treating Outliers"
   ]
  },
  {
   "cell_type": "code",
   "execution_count": 55,
   "id": "tested-status",
   "metadata": {
    "id": "aCAdMuMm9WLh"
   },
   "outputs": [],
   "source": [
    "def treat_outliers(data,col):\n",
    "    '''\n",
    "    treats outliers in a varaible\n",
    "    col: str, name of the numerical varaible\n",
    "    data: data frame\n",
    "    col: name of the column\n",
    "    '''\n",
    "    Q1=data[col].quantile(0.25) # 25th quantile\n",
    "    Q3=data[col].quantile(0.75)  # 75th quantile\n",
    "    IQR=Q3-Q1\n",
    "    Lower_Whisker = Q1 - 1.5*IQR \n",
    "    Upper_Whisker = Q3 + 1.5*IQR\n",
    "    data[col] = np.clip(data[col], Lower_Whisker, Upper_Whisker) # all the values smaller than Lower_Whisker will be assigned value of Lower_whisker \n",
    "                                                            # and all the values above upper_whisker will be assigned value of upper_Whisker \n",
    "    return data\n",
    "\n",
    "def treat_outliers_all(data, col_list):\n",
    "    '''\n",
    "    treat outlier in all numerical varaibles\n",
    "    col_list: list of numerical varaibles\n",
    "    data: data frame\n",
    "    '''\n",
    "    for c in col_list:\n",
    "        data = treat_outliers(data,c)\n",
    "        \n",
    "    return data\n",
    "    "
   ]
  },
  {
   "cell_type": "code",
   "execution_count": 56,
   "id": "ordinary-recruitment",
   "metadata": {
    "id": "A8b4w_FX9WLj"
   },
   "outputs": [],
   "source": [
    "numerical_col = data.select_dtypes(include=np.number).columns.tolist()# getting list of numerical columns\n",
    "\n",
    "# treating outliers\n",
    "numerical_col = [ele for ele in numerical_col] \n",
    "data = treat_outliers_all(data,numerical_col)"
   ]
  },
  {
   "cell_type": "markdown",
   "id": "prescribed-focus",
   "metadata": {},
   "source": [
    "### Data Preparation"
   ]
  },
  {
   "cell_type": "markdown",
   "id": "cellular-david",
   "metadata": {},
   "source": [
    "**Encoding >50K as 0 and <=50K as 1 as government wants to find underprivileged section of society.**"
   ]
  },
  {
   "cell_type": "code",
   "execution_count": 57,
   "id": "purple-annotation",
   "metadata": {},
   "outputs": [],
   "source": [
    "data['salary'] = data['salary'].apply(lambda x: 1 if x==' <=50K' else 0) "
   ]
  },
  {
   "cell_type": "markdown",
   "id": "lesbian-soldier",
   "metadata": {},
   "source": [
    "**Creating training and test sets.**"
   ]
  },
  {
   "cell_type": "code",
   "execution_count": 58,
   "id": "metallic-latex",
   "metadata": {},
   "outputs": [],
   "source": [
    "X = data.drop(['salary'], axis=1)\n",
    "Y = data['salary']\n",
    "\n",
    "X = pd.get_dummies(X,drop_first=True)\n",
    "\n",
    "#Splitting data in train and test sets\n",
    "X_train, X_test, y_train, y_test = train_test_split(X,Y, test_size=0.30, random_state = 1)"
   ]
  },
  {
   "cell_type": "code",
   "execution_count": 59,
   "id": "organized-worth",
   "metadata": {},
   "outputs": [
    {
     "name": "stdout",
     "output_type": "stream",
     "text": [
      "Shape of Training set :  (22792, 52)\n",
      "Shape of test set :  (9769, 52)\n",
      "Percentage of classes in training set:\n",
      " 1    0.753335\n",
      "0    0.246665\n",
      "Name: salary, dtype: float64\n",
      "Percentage of classes in test set:\n",
      " 1    0.772853\n",
      "0    0.227147\n",
      "Name: salary, dtype: float64\n"
     ]
    }
   ],
   "source": [
    "print('Shape of Training set : ',X_train.shape )\n",
    "print('Shape of test set : ',X_test.shape )\n",
    "print('Percentage of classes in training set:\\n',y_train.value_counts(normalize=True))\n",
    "print('Percentage of classes in test set:\\n',y_test.value_counts(normalize=True))"
   ]
  },
  {
   "cell_type": "markdown",
   "id": "developing-survival",
   "metadata": {},
   "source": [
    "### Building the model"
   ]
  },
  {
   "cell_type": "markdown",
   "id": "elect-domain",
   "metadata": {},
   "source": [
    "### Model evaluation criterion\n",
    "\n",
    "### Model can make wrong predictions as:\n",
    "1. Predicting a person has a salary >50K but actually the salary is <=50K.\n",
    "2. Predicting a person doesn't have a salary >50K but actually, the salary is >50k.\n",
    "\n",
    "### Which case is more important? \n",
    "* Both the cases are important as:\n",
    "\n",
    "* If we predict a person has a salary >50K but actually the salary is <=50K that person will not be able to avail the benefits of the scheme.\n",
    "\n",
    "* If we predict a person doesn't have a salary >50K but actually the salary is >50K then a wrong person will be getting the benefits of the scheme.\n",
    "\n",
    "### How to reduce this loss i.e need to reduce False Negatives?\n",
    "*  `f1_score` should be maximized, the greater the f1_score higher the chances of identifying both the classes correctly."
   ]
  },
  {
   "cell_type": "markdown",
   "id": "industrial-merchant",
   "metadata": {},
   "source": [
    "#### First, let's create functions to calculate different metrics and confusion matrix so that we don't have to use the same code repeatedly for each model.\n",
    "* The get_metrics_score function will be used to check the model performance of models. \n",
    "* The make_confusion_matrix function will be used to plot confusion matrix."
   ]
  },
  {
   "cell_type": "code",
   "execution_count": 60,
   "id": "lovely-closing",
   "metadata": {},
   "outputs": [],
   "source": [
    "def get_metrics_score(model,train,test,train_y,test_y,threshold=0.5,flag=True,roc=False):\n",
    "    '''\n",
    "    Function to calculate different metric scores of the model - Accuracy, Recall, Precision, and F1 score\n",
    "    model: classifier to predict values of X\n",
    "    train, test: Independent features\n",
    "    train_y,test_y: Dependent variable\n",
    "    threshold: thresold for classifiying the observation as 1\n",
    "    flag: If the flag is set to True then only the print statements showing different will be displayed. The default value is set to True.\n",
    "    roc: If the roc is set to True then only roc score will be displayed. The default value is set to False.\n",
    "    '''\n",
    "    # defining an empty list to store train and test results\n",
    "    \n",
    "    score_list=[] \n",
    "    \n",
    "    pred_train = (model.predict_proba(train)[:,1]>threshold)\n",
    "    pred_test = (model.predict_proba(test)[:,1]>threshold)\n",
    "\n",
    "    pred_train = np.round(pred_train)\n",
    "    pred_test = np.round(pred_test)\n",
    "    \n",
    "    train_acc = accuracy_score(pred_train,train_y)\n",
    "    test_acc = accuracy_score(pred_test,test_y)\n",
    "    \n",
    "    train_recall = recall_score(train_y,pred_train)\n",
    "    test_recall = recall_score(test_y,pred_test)\n",
    "    \n",
    "    train_precision = precision_score(train_y,pred_train)\n",
    "    test_precision = precision_score(test_y,pred_test)\n",
    "    \n",
    "    train_f1 = f1_score(train_y,pred_train)\n",
    "    test_f1 = f1_score(test_y,pred_test)\n",
    "    \n",
    "    \n",
    "    score_list.extend((train_acc,test_acc,train_recall,test_recall,train_precision,test_precision,train_f1,test_f1))\n",
    "        \n",
    "    \n",
    "    if flag == True: \n",
    "        print(\"Accuracy on training set : \",accuracy_score(pred_train,train_y))\n",
    "        print(\"Accuracy on test set : \",accuracy_score(pred_test,test_y))\n",
    "        print(\"Recall on training set : \",recall_score(train_y,pred_train))\n",
    "        print(\"Recall on test set : \",recall_score(test_y,pred_test))\n",
    "        print(\"Precision on training set : \",precision_score(train_y,pred_train))\n",
    "        print(\"Precision on test set : \",precision_score(test_y,pred_test))\n",
    "        print(\"F1 on training set : \",f1_score(train_y,pred_train))\n",
    "        print(\"F1 on test set : \",f1_score(test_y,pred_test))\n",
    "   \n",
    "    if roc == True:\n",
    "        pred_train_prob = model.predict_proba(train)[:,1]\n",
    "        pred_test_prob = model.predict_proba(test)[:,1]\n",
    "        print(\"ROC-AUC Score on training set : \",roc_auc_score(train_y,pred_train))\n",
    "        print(\"ROC-AUC Score on test set : \",roc_auc_score(test_y,pred_test))\n",
    "    \n",
    "    return score_list # returning the list with train and test scores"
   ]
  },
  {
   "cell_type": "code",
   "execution_count": 61,
   "id": "acting-cleanup",
   "metadata": {},
   "outputs": [],
   "source": [
    "def make_confusion_matrix(model,test_X,y_actual,labels=[1, 0]):\n",
    "    '''\n",
    "    model : classifier to predict values of X\n",
    "    test_X: test set\n",
    "    y_actual : ground truth  \n",
    "    \n",
    "    '''\n",
    "    y_predict = model.predict(test_X)\n",
    "    cm=metrics.confusion_matrix( y_actual, y_predict, labels=[1,0])\n",
    "    df_cm = pd.DataFrame(cm, index = [i for i in [\"Actual - <=50K\",\"Actual - >50K\"]],\n",
    "                  columns = [i for i in ['Predicted - <=50K','Predicted - >50k']])\n",
    "    group_counts = [\"{0:0.0f}\".format(value) for value in\n",
    "                cm.flatten()]\n",
    "    group_percentages = [\"{0:.2%}\".format(value) for value in\n",
    "                         cm.flatten()/np.sum(cm)]\n",
    "    labels = [f\"{v1}\\n{v2}\" for v1, v2 in\n",
    "              zip(group_counts,group_percentages)]\n",
    "    labels = np.asarray(labels).reshape(2,2)\n",
    "    plt.figure(figsize = (10,7))\n",
    "    sns.heatmap(df_cm, annot=labels,fmt='')\n",
    "    plt.ylabel('True label')\n",
    "    plt.xlabel('Predicted label')"
   ]
  },
  {
   "cell_type": "markdown",
   "id": "waiting-clinic",
   "metadata": {},
   "source": [
    "### Logistic Regression"
   ]
  },
  {
   "cell_type": "code",
   "execution_count": 62,
   "id": "judicial-acrylic",
   "metadata": {},
   "outputs": [
    {
     "name": "stdout",
     "output_type": "stream",
     "text": [
      "Accuracy on training set :  0.8331870831870832\n",
      "Accuracy on test set :  0.8378544375063978\n",
      "Recall on training set :  0.9224810716365754\n",
      "Recall on test set :  0.9172185430463576\n",
      "Precision on training set :  0.8650464227198252\n",
      "Precision on test set :  0.8783612379502791\n",
      "F1 on training set :  0.8928410372040587\n",
      "F1 on test set :  0.8973694440844888\n"
     ]
    },
    {
     "data": {
      "image/png": "[encoded data removed]",
      "text/plain": [
       "<Figure size 720x504 with 2 Axes>"
      ]
     },
     "metadata": {},
     "output_type": "display_data"
    }
   ],
   "source": [
    "# There are different solvers available in Sklearn logistic regression\n",
    "# The newton-cg solver is faster for high-dimensional data\n",
    "\n",
    "lg = LogisticRegression(solver='newton-cg',random_state=1)\n",
    "model  = lg.fit(X_train,y_train)\n",
    "\n",
    "# checking model performances for this model\n",
    "scores_LR = get_metrics_score(model,X_train,X_test,y_train,y_test)\n",
    "\n",
    "# creating confusion matrix\n",
    "make_confusion_matrix(lg,X_test,y_test)"
   ]
  },
  {
   "cell_type": "markdown",
   "id": "alone-relay",
   "metadata": {},
   "source": [
    "#### ROC-AUC"
   ]
  },
  {
   "cell_type": "markdown",
   "id": "furnished-dragon",
   "metadata": {},
   "source": [
    "* ROC-AUC on training set"
   ]
  },
  {
   "cell_type": "code",
   "execution_count": 63,
   "id": "stylish-writing",
   "metadata": {},
   "outputs": [
    {
     "data": {
      "image/png": "[encoded data removed]",
      "text/plain": [
       "<Figure size 504x360 with 1 Axes>"
      ]
     },
     "metadata": {},
     "output_type": "display_data"
    }
   ],
   "source": [
    "logit_roc_auc_train = roc_auc_score(y_train, lg.predict_proba(X_train)[:,1])\n",
    "fpr, tpr, thresholds = roc_curve(y_train, lg.predict_proba(X_train)[:,1])\n",
    "plt.figure(figsize=(7,5))\n",
    "plt.plot(fpr, tpr, label='Logistic Regression (area = %0.2f)' % logit_roc_auc_train)\n",
    "plt.plot([0, 1], [0, 1],'r--')\n",
    "plt.xlim([0.0, 1.0])\n",
    "plt.ylim([0.0, 1.05])\n",
    "plt.xlabel('False Positive Rate')\n",
    "plt.ylabel('True Positive Rate')\n",
    "plt.title('Receiver operating characteristic')\n",
    "plt.legend(loc=\"lower right\")\n",
    "plt.show()"
   ]
  },
  {
   "cell_type": "markdown",
   "id": "english-swedish",
   "metadata": {},
   "source": [
    "* ROC-AUC on test set"
   ]
  },
  {
   "cell_type": "code",
   "execution_count": 64,
   "id": "atlantic-foundation",
   "metadata": {},
   "outputs": [
    {
     "data": {
      "image/png": "[encoded data removed]",
      "text/plain": [
       "<Figure size 504x360 with 1 Axes>"
      ]
     },
     "metadata": {},
     "output_type": "display_data"
    }
   ],
   "source": [
    "logit_roc_auc_test = roc_auc_score(y_test, lg.predict_proba(X_test)[:,1])\n",
    "fpr, tpr, thresholds = roc_curve(y_test, lg.predict_proba(X_test)[:,1])\n",
    "plt.figure(figsize=(7,5))\n",
    "plt.plot(fpr, tpr, label='Logistic Regression (area = %0.2f)' % logit_roc_auc_test)\n",
    "plt.plot([0, 1], [0, 1],'r--')\n",
    "plt.xlim([0.0, 1.0])\n",
    "plt.ylim([0.0, 1.05])\n",
    "plt.xlabel('False Positive Rate')\n",
    "plt.ylabel('True Positive Rate')\n",
    "plt.title('Receiver operating characteristic')\n",
    "plt.legend(loc=\"lower right\")\n",
    "plt.show()"
   ]
  },
  {
   "cell_type": "markdown",
   "id": "automatic-treasury",
   "metadata": {},
   "source": [
    "* Logistic Regression model is giving a good performance on training and test set but the recall is low."
   ]
  },
  {
   "cell_type": "markdown",
   "id": "other-ministry",
   "metadata": {},
   "source": [
    "### Finding the coefficients"
   ]
  },
  {
   "cell_type": "code",
   "execution_count": 65,
   "id": "anticipated-lambda",
   "metadata": {
    "scrolled": false
   },
   "outputs": [
    {
     "data": {
      "text/html": [
       "<div>\n",
       "<style scoped>\n",
       "    .dataframe tbody tr th:only-of-type {\n",
       "        vertical-align: middle;\n",
       "    }\n",
       "\n",
       "    .dataframe tbody tr th {\n",
       "        vertical-align: top;\n",
       "    }\n",
       "\n",
       "    .dataframe thead th {\n",
       "        text-align: right;\n",
       "    }\n",
       "</style>\n",
       "<table border=\"1\" class=\"dataframe\">\n",
       "  <thead>\n",
       "    <tr style=\"text-align: right;\">\n",
       "      <th></th>\n",
       "      <th>age</th>\n",
       "      <th>fnlwgt</th>\n",
       "      <th>education_no_of_years</th>\n",
       "      <th>working_hours_per_week</th>\n",
       "      <th>workclass_ Local-gov</th>\n",
       "      <th>workclass_ Never-worked</th>\n",
       "      <th>workclass_ Private</th>\n",
       "      <th>workclass_ Self-emp-inc</th>\n",
       "      <th>workclass_ Self-emp-not-inc</th>\n",
       "      <th>workclass_ State-gov</th>\n",
       "      <th>workclass_ Without-pay</th>\n",
       "      <th>workclass_Unknown</th>\n",
       "      <th>education_ 11th</th>\n",
       "      <th>education_ 12th</th>\n",
       "      <th>education_ 1st-4th</th>\n",
       "      <th>education_ 5th-6th</th>\n",
       "      <th>education_ 7th-8th</th>\n",
       "      <th>education_ 9th</th>\n",
       "      <th>education_ Assoc-acdm</th>\n",
       "      <th>education_ Assoc-voc</th>\n",
       "      <th>education_ Bachelors</th>\n",
       "      <th>education_ Doctorate</th>\n",
       "      <th>education_ HS-grad</th>\n",
       "      <th>education_ Masters</th>\n",
       "      <th>education_ Preschool</th>\n",
       "      <th>education_ Prof-school</th>\n",
       "      <th>education_ Some-college</th>\n",
       "      <th>marital_status_married</th>\n",
       "      <th>marital_status_not_married</th>\n",
       "      <th>occupation_ Armed-Forces</th>\n",
       "      <th>occupation_ Craft-repair</th>\n",
       "      <th>occupation_ Exec-managerial</th>\n",
       "      <th>occupation_ Farming-fishing</th>\n",
       "      <th>occupation_ Handlers-cleaners</th>\n",
       "      <th>occupation_ Machine-op-inspct</th>\n",
       "      <th>occupation_ Other-service</th>\n",
       "      <th>occupation_ Priv-house-serv</th>\n",
       "      <th>occupation_ Prof-specialty</th>\n",
       "      <th>occupation_ Protective-serv</th>\n",
       "      <th>occupation_ Sales</th>\n",
       "      <th>occupation_ Tech-support</th>\n",
       "      <th>occupation_ Transport-moving</th>\n",
       "      <th>occupation_Unknown</th>\n",
       "      <th>race_ Asian-Pac-Islander</th>\n",
       "      <th>race_ Black</th>\n",
       "      <th>race_ Other</th>\n",
       "      <th>race_ White</th>\n",
       "      <th>sex_ Male</th>\n",
       "      <th>native_country_europe</th>\n",
       "      <th>native_country_north_america</th>\n",
       "      <th>native_country_other</th>\n",
       "      <th>native_country_south_america</th>\n",
       "    </tr>\n",
       "  </thead>\n",
       "  <tbody>\n",
       "    <tr>\n",
       "      <th>coef</th>\n",
       "      <td>-0.029529</td>\n",
       "      <td>-8.925596e-07</td>\n",
       "      <td>-0.283958</td>\n",
       "      <td>-0.067311</td>\n",
       "      <td>0.649183</td>\n",
       "      <td>0.157665</td>\n",
       "      <td>0.419878</td>\n",
       "      <td>0.057096</td>\n",
       "      <td>0.869247</td>\n",
       "      <td>0.621048</td>\n",
       "      <td>1.065045</td>\n",
       "      <td>0.487248</td>\n",
       "      <td>0.198424</td>\n",
       "      <td>0.015041</td>\n",
       "      <td>0.268667</td>\n",
       "      <td>0.014616</td>\n",
       "      <td>0.091053</td>\n",
       "      <td>0.151029</td>\n",
       "      <td>0.283974</td>\n",
       "      <td>-0.0386</td>\n",
       "      <td>-0.080375</td>\n",
       "      <td>-0.130003</td>\n",
       "      <td>-0.056266</td>\n",
       "      <td>-0.187521</td>\n",
       "      <td>0.679639</td>\n",
       "      <td>-0.554117</td>\n",
       "      <td>-0.100737</td>\n",
       "      <td>-2.539469</td>\n",
       "      <td>-0.411738</td>\n",
       "      <td>0.334607</td>\n",
       "      <td>-0.106151</td>\n",
       "      <td>-0.766541</td>\n",
       "      <td>0.95328</td>\n",
       "      <td>0.684906</td>\n",
       "      <td>0.291789</td>\n",
       "      <td>0.90916</td>\n",
       "      <td>1.253174</td>\n",
       "      <td>-0.484577</td>\n",
       "      <td>-0.50777</td>\n",
       "      <td>-0.205512</td>\n",
       "      <td>-0.57919</td>\n",
       "      <td>0.160558</td>\n",
       "      <td>0.644913</td>\n",
       "      <td>-0.369245</td>\n",
       "      <td>-0.248178</td>\n",
       "      <td>0.035223</td>\n",
       "      <td>-0.372949</td>\n",
       "      <td>-0.053584</td>\n",
       "      <td>-0.351826</td>\n",
       "      <td>-0.232406</td>\n",
       "      <td>0.099283</td>\n",
       "      <td>1.341883</td>\n",
       "    </tr>\n",
       "  </tbody>\n",
       "</table>\n",
       "</div>"
      ],
      "text/plain": [
       "           age        fnlwgt  education_no_of_years  working_hours_per_week  \\\n",
       "coef -0.029529 -8.925596e-07              -0.283958               -0.067311   \n",
       "\n",
       "      workclass_ Local-gov  workclass_ Never-worked  workclass_ Private  \\\n",
       "coef              0.649183                 0.157665            0.419878   \n",
       "\n",
       "      workclass_ Self-emp-inc  workclass_ Self-emp-not-inc  \\\n",
       "coef                 0.057096                     0.869247   \n",
       "\n",
       "      workclass_ State-gov  workclass_ Without-pay  workclass_Unknown  \\\n",
       "coef              0.621048                1.065045           0.487248   \n",
       "\n",
       "      education_ 11th  education_ 12th  education_ 1st-4th  \\\n",
       "coef         0.198424         0.015041            0.268667   \n",
       "\n",
       "      education_ 5th-6th  education_ 7th-8th  education_ 9th  \\\n",
       "coef            0.014616            0.091053        0.151029   \n",
       "\n",
       "      education_ Assoc-acdm  education_ Assoc-voc  education_ Bachelors  \\\n",
       "coef               0.283974               -0.0386             -0.080375   \n",
       "\n",
       "      education_ Doctorate  education_ HS-grad  education_ Masters  \\\n",
       "coef             -0.130003           -0.056266           -0.187521   \n",
       "\n",
       "      education_ Preschool  education_ Prof-school  education_ Some-college  \\\n",
       "coef              0.679639               -0.554117                -0.100737   \n",
       "\n",
       "      marital_status_married  marital_status_not_married  \\\n",
       "coef               -2.539469                   -0.411738   \n",
       "\n",
       "      occupation_ Armed-Forces  occupation_ Craft-repair  \\\n",
       "coef                  0.334607                 -0.106151   \n",
       "\n",
       "      occupation_ Exec-managerial  occupation_ Farming-fishing  \\\n",
       "coef                    -0.766541                      0.95328   \n",
       "\n",
       "      occupation_ Handlers-cleaners  occupation_ Machine-op-inspct  \\\n",
       "coef                       0.684906                       0.291789   \n",
       "\n",
       "      occupation_ Other-service  occupation_ Priv-house-serv  \\\n",
       "coef                    0.90916                     1.253174   \n",
       "\n",
       "      occupation_ Prof-specialty  occupation_ Protective-serv  \\\n",
       "coef                   -0.484577                     -0.50777   \n",
       "\n",
       "      occupation_ Sales  occupation_ Tech-support  \\\n",
       "coef          -0.205512                  -0.57919   \n",
       "\n",
       "      occupation_ Transport-moving  occupation_Unknown  \\\n",
       "coef                      0.160558            0.644913   \n",
       "\n",
       "      race_ Asian-Pac-Islander  race_ Black  race_ Other  race_ White  \\\n",
       "coef                 -0.369245    -0.248178     0.035223    -0.372949   \n",
       "\n",
       "      sex_ Male  native_country_europe  native_country_north_america  \\\n",
       "coef  -0.053584              -0.351826                     -0.232406   \n",
       "\n",
       "      native_country_other  native_country_south_america  \n",
       "coef              0.099283                      1.341883  "
      ]
     },
     "execution_count": 65,
     "metadata": {},
     "output_type": "execute_result"
    }
   ],
   "source": [
    "log_odds = lg.coef_[0]\n",
    "pd.DataFrame(log_odds, X_train.columns, columns=['coef']).T"
   ]
  },
  {
   "cell_type": "markdown",
   "id": "egyptian-trustee",
   "metadata": {},
   "source": [
    "### Coefficient interpretations\n",
    "\n",
    "* Coefficient of age, fnlwgt, education_no_of_years,working_hours_per_week,sex_Male, some levels of education and marital_status, occupation, race and native country are negative, increase in these will lead to decrease in chances of a person having <=50K salary. \n",
    "* Coefficient all the levels of workclass,some levels of occupation, race, native country positive increase in these will lead to increase in chances of a person having <=50K salary."
   ]
  },
  {
   "cell_type": "markdown",
   "id": "swedish-johns",
   "metadata": {},
   "source": [
    "###  Converting coefficients to odds"
   ]
  },
  {
   "cell_type": "markdown",
   "id": "respective-spine",
   "metadata": {},
   "source": [
    "* The coefficients of the logistic regression model are in terms of log(odd), to find the odds we have to take the exponential of the coefficients. \n",
    "* Therefore, **odds =  exp(b)**\n",
    "* The percentage change in odds is given as **odds = (exp(b) - 1) * 100**"
   ]
  },
  {
   "cell_type": "markdown",
   "id": "innocent-separate",
   "metadata": {},
   "source": [
    "**Odds from coefficients**"
   ]
  },
  {
   "cell_type": "code",
   "execution_count": 66,
   "id": "looking-statistics",
   "metadata": {},
   "outputs": [
    {
     "data": {
      "text/html": [
       "<div>\n",
       "<style scoped>\n",
       "    .dataframe tbody tr th:only-of-type {\n",
       "        vertical-align: middle;\n",
       "    }\n",
       "\n",
       "    .dataframe tbody tr th {\n",
       "        vertical-align: top;\n",
       "    }\n",
       "\n",
       "    .dataframe thead th {\n",
       "        text-align: right;\n",
       "    }\n",
       "</style>\n",
       "<table border=\"1\" class=\"dataframe\">\n",
       "  <thead>\n",
       "    <tr style=\"text-align: right;\">\n",
       "      <th></th>\n",
       "      <th>age</th>\n",
       "      <th>fnlwgt</th>\n",
       "      <th>education_no_of_years</th>\n",
       "      <th>working_hours_per_week</th>\n",
       "      <th>workclass_ Local-gov</th>\n",
       "      <th>workclass_ Never-worked</th>\n",
       "      <th>workclass_ Private</th>\n",
       "      <th>workclass_ Self-emp-inc</th>\n",
       "      <th>workclass_ Self-emp-not-inc</th>\n",
       "      <th>workclass_ State-gov</th>\n",
       "      <th>workclass_ Without-pay</th>\n",
       "      <th>workclass_Unknown</th>\n",
       "      <th>education_ 11th</th>\n",
       "      <th>education_ 12th</th>\n",
       "      <th>education_ 1st-4th</th>\n",
       "      <th>education_ 5th-6th</th>\n",
       "      <th>education_ 7th-8th</th>\n",
       "      <th>education_ 9th</th>\n",
       "      <th>education_ Assoc-acdm</th>\n",
       "      <th>education_ Assoc-voc</th>\n",
       "      <th>education_ Bachelors</th>\n",
       "      <th>education_ Doctorate</th>\n",
       "      <th>education_ HS-grad</th>\n",
       "      <th>education_ Masters</th>\n",
       "      <th>education_ Preschool</th>\n",
       "      <th>education_ Prof-school</th>\n",
       "      <th>education_ Some-college</th>\n",
       "      <th>marital_status_married</th>\n",
       "      <th>marital_status_not_married</th>\n",
       "      <th>occupation_ Armed-Forces</th>\n",
       "      <th>occupation_ Craft-repair</th>\n",
       "      <th>occupation_ Exec-managerial</th>\n",
       "      <th>occupation_ Farming-fishing</th>\n",
       "      <th>occupation_ Handlers-cleaners</th>\n",
       "      <th>occupation_ Machine-op-inspct</th>\n",
       "      <th>occupation_ Other-service</th>\n",
       "      <th>occupation_ Priv-house-serv</th>\n",
       "      <th>occupation_ Prof-specialty</th>\n",
       "      <th>occupation_ Protective-serv</th>\n",
       "      <th>occupation_ Sales</th>\n",
       "      <th>occupation_ Tech-support</th>\n",
       "      <th>occupation_ Transport-moving</th>\n",
       "      <th>occupation_Unknown</th>\n",
       "      <th>race_ Asian-Pac-Islander</th>\n",
       "      <th>race_ Black</th>\n",
       "      <th>race_ Other</th>\n",
       "      <th>race_ White</th>\n",
       "      <th>sex_ Male</th>\n",
       "      <th>native_country_europe</th>\n",
       "      <th>native_country_north_america</th>\n",
       "      <th>native_country_other</th>\n",
       "      <th>native_country_south_america</th>\n",
       "    </tr>\n",
       "  </thead>\n",
       "  <tbody>\n",
       "    <tr>\n",
       "      <th>odds</th>\n",
       "      <td>0.970902</td>\n",
       "      <td>0.999999</td>\n",
       "      <td>0.752798</td>\n",
       "      <td>0.934905</td>\n",
       "      <td>1.913977</td>\n",
       "      <td>1.170774</td>\n",
       "      <td>1.521775</td>\n",
       "      <td>1.058757</td>\n",
       "      <td>2.385114</td>\n",
       "      <td>1.860877</td>\n",
       "      <td>2.900971</td>\n",
       "      <td>1.62783</td>\n",
       "      <td>1.21948</td>\n",
       "      <td>1.015154</td>\n",
       "      <td>1.30822</td>\n",
       "      <td>1.014723</td>\n",
       "      <td>1.095327</td>\n",
       "      <td>1.16303</td>\n",
       "      <td>1.328398</td>\n",
       "      <td>0.962136</td>\n",
       "      <td>0.92277</td>\n",
       "      <td>0.878093</td>\n",
       "      <td>0.945288</td>\n",
       "      <td>0.829011</td>\n",
       "      <td>1.973164</td>\n",
       "      <td>0.574579</td>\n",
       "      <td>0.904171</td>\n",
       "      <td>0.078908</td>\n",
       "      <td>0.662498</td>\n",
       "      <td>1.397391</td>\n",
       "      <td>0.899289</td>\n",
       "      <td>0.464617</td>\n",
       "      <td>2.594205</td>\n",
       "      <td>1.983585</td>\n",
       "      <td>1.33882</td>\n",
       "      <td>2.482238</td>\n",
       "      <td>3.50144</td>\n",
       "      <td>0.615958</td>\n",
       "      <td>0.601836</td>\n",
       "      <td>0.81423</td>\n",
       "      <td>0.560352</td>\n",
       "      <td>1.174166</td>\n",
       "      <td>1.905822</td>\n",
       "      <td>0.691256</td>\n",
       "      <td>0.780221</td>\n",
       "      <td>1.035851</td>\n",
       "      <td>0.6887</td>\n",
       "      <td>0.947826</td>\n",
       "      <td>0.703403</td>\n",
       "      <td>0.792624</td>\n",
       "      <td>1.104379</td>\n",
       "      <td>3.826243</td>\n",
       "    </tr>\n",
       "  </tbody>\n",
       "</table>\n",
       "</div>"
      ],
      "text/plain": [
       "           age    fnlwgt  education_no_of_years  working_hours_per_week  \\\n",
       "odds  0.970902  0.999999               0.752798                0.934905   \n",
       "\n",
       "      workclass_ Local-gov  workclass_ Never-worked  workclass_ Private  \\\n",
       "odds              1.913977                 1.170774            1.521775   \n",
       "\n",
       "      workclass_ Self-emp-inc  workclass_ Self-emp-not-inc  \\\n",
       "odds                 1.058757                     2.385114   \n",
       "\n",
       "      workclass_ State-gov  workclass_ Without-pay  workclass_Unknown  \\\n",
       "odds              1.860877                2.900971            1.62783   \n",
       "\n",
       "      education_ 11th  education_ 12th  education_ 1st-4th  \\\n",
       "odds          1.21948         1.015154             1.30822   \n",
       "\n",
       "      education_ 5th-6th  education_ 7th-8th  education_ 9th  \\\n",
       "odds            1.014723            1.095327         1.16303   \n",
       "\n",
       "      education_ Assoc-acdm  education_ Assoc-voc  education_ Bachelors  \\\n",
       "odds               1.328398              0.962136               0.92277   \n",
       "\n",
       "      education_ Doctorate  education_ HS-grad  education_ Masters  \\\n",
       "odds              0.878093            0.945288            0.829011   \n",
       "\n",
       "      education_ Preschool  education_ Prof-school  education_ Some-college  \\\n",
       "odds              1.973164                0.574579                 0.904171   \n",
       "\n",
       "      marital_status_married  marital_status_not_married  \\\n",
       "odds                0.078908                    0.662498   \n",
       "\n",
       "      occupation_ Armed-Forces  occupation_ Craft-repair  \\\n",
       "odds                  1.397391                  0.899289   \n",
       "\n",
       "      occupation_ Exec-managerial  occupation_ Farming-fishing  \\\n",
       "odds                     0.464617                     2.594205   \n",
       "\n",
       "      occupation_ Handlers-cleaners  occupation_ Machine-op-inspct  \\\n",
       "odds                       1.983585                        1.33882   \n",
       "\n",
       "      occupation_ Other-service  occupation_ Priv-house-serv  \\\n",
       "odds                   2.482238                      3.50144   \n",
       "\n",
       "      occupation_ Prof-specialty  occupation_ Protective-serv  \\\n",
       "odds                    0.615958                     0.601836   \n",
       "\n",
       "      occupation_ Sales  occupation_ Tech-support  \\\n",
       "odds            0.81423                  0.560352   \n",
       "\n",
       "      occupation_ Transport-moving  occupation_Unknown  \\\n",
       "odds                      1.174166            1.905822   \n",
       "\n",
       "      race_ Asian-Pac-Islander  race_ Black  race_ Other  race_ White  \\\n",
       "odds                  0.691256     0.780221     1.035851       0.6887   \n",
       "\n",
       "      sex_ Male  native_country_europe  native_country_north_america  \\\n",
       "odds   0.947826               0.703403                      0.792624   \n",
       "\n",
       "      native_country_other  native_country_south_america  \n",
       "odds              1.104379                      3.826243  "
      ]
     },
     "execution_count": 66,
     "metadata": {},
     "output_type": "execute_result"
    }
   ],
   "source": [
    "odds = np.exp(lg.coef_[0]) # converting coefficients to odds\n",
    "pd.set_option('display.max_columns',None)  # removing limit from number of columns to display\n",
    "pd.DataFrame(odds, X_train.columns, columns=['odds']).T # adding the odds to a dataframe"
   ]
  },
  {
   "cell_type": "markdown",
   "id": "swedish-sewing",
   "metadata": {},
   "source": [
    "**Percentage change in odds**"
   ]
  },
  {
   "cell_type": "code",
   "execution_count": 67,
   "id": "bearing-parking",
   "metadata": {
    "scrolled": false
   },
   "outputs": [
    {
     "data": {
      "text/html": [
       "<div>\n",
       "<style scoped>\n",
       "    .dataframe tbody tr th:only-of-type {\n",
       "        vertical-align: middle;\n",
       "    }\n",
       "\n",
       "    .dataframe tbody tr th {\n",
       "        vertical-align: top;\n",
       "    }\n",
       "\n",
       "    .dataframe thead th {\n",
       "        text-align: right;\n",
       "    }\n",
       "</style>\n",
       "<table border=\"1\" class=\"dataframe\">\n",
       "  <thead>\n",
       "    <tr style=\"text-align: right;\">\n",
       "      <th></th>\n",
       "      <th>age</th>\n",
       "      <th>fnlwgt</th>\n",
       "      <th>education_no_of_years</th>\n",
       "      <th>working_hours_per_week</th>\n",
       "      <th>workclass_ Local-gov</th>\n",
       "      <th>workclass_ Never-worked</th>\n",
       "      <th>workclass_ Private</th>\n",
       "      <th>workclass_ Self-emp-inc</th>\n",
       "      <th>workclass_ Self-emp-not-inc</th>\n",
       "      <th>workclass_ State-gov</th>\n",
       "      <th>workclass_ Without-pay</th>\n",
       "      <th>workclass_Unknown</th>\n",
       "      <th>education_ 11th</th>\n",
       "      <th>education_ 12th</th>\n",
       "      <th>education_ 1st-4th</th>\n",
       "      <th>education_ 5th-6th</th>\n",
       "      <th>education_ 7th-8th</th>\n",
       "      <th>education_ 9th</th>\n",
       "      <th>education_ Assoc-acdm</th>\n",
       "      <th>education_ Assoc-voc</th>\n",
       "      <th>education_ Bachelors</th>\n",
       "      <th>education_ Doctorate</th>\n",
       "      <th>education_ HS-grad</th>\n",
       "      <th>education_ Masters</th>\n",
       "      <th>education_ Preschool</th>\n",
       "      <th>education_ Prof-school</th>\n",
       "      <th>education_ Some-college</th>\n",
       "      <th>marital_status_married</th>\n",
       "      <th>marital_status_not_married</th>\n",
       "      <th>occupation_ Armed-Forces</th>\n",
       "      <th>occupation_ Craft-repair</th>\n",
       "      <th>occupation_ Exec-managerial</th>\n",
       "      <th>occupation_ Farming-fishing</th>\n",
       "      <th>occupation_ Handlers-cleaners</th>\n",
       "      <th>occupation_ Machine-op-inspct</th>\n",
       "      <th>occupation_ Other-service</th>\n",
       "      <th>occupation_ Priv-house-serv</th>\n",
       "      <th>occupation_ Prof-specialty</th>\n",
       "      <th>occupation_ Protective-serv</th>\n",
       "      <th>occupation_ Sales</th>\n",
       "      <th>occupation_ Tech-support</th>\n",
       "      <th>occupation_ Transport-moving</th>\n",
       "      <th>occupation_Unknown</th>\n",
       "      <th>race_ Asian-Pac-Islander</th>\n",
       "      <th>race_ Black</th>\n",
       "      <th>race_ Other</th>\n",
       "      <th>race_ White</th>\n",
       "      <th>sex_ Male</th>\n",
       "      <th>native_country_europe</th>\n",
       "      <th>native_country_north_america</th>\n",
       "      <th>native_country_other</th>\n",
       "      <th>native_country_south_america</th>\n",
       "    </tr>\n",
       "  </thead>\n",
       "  <tbody>\n",
       "    <tr>\n",
       "      <th>change_odds%</th>\n",
       "      <td>-2.909761</td>\n",
       "      <td>-0.000089</td>\n",
       "      <td>-24.720172</td>\n",
       "      <td>-6.509515</td>\n",
       "      <td>91.397717</td>\n",
       "      <td>17.077427</td>\n",
       "      <td>52.177521</td>\n",
       "      <td>5.875744</td>\n",
       "      <td>138.511383</td>\n",
       "      <td>86.087701</td>\n",
       "      <td>190.097097</td>\n",
       "      <td>62.783014</td>\n",
       "      <td>21.947984</td>\n",
       "      <td>1.515439</td>\n",
       "      <td>30.821974</td>\n",
       "      <td>1.472302</td>\n",
       "      <td>9.532701</td>\n",
       "      <td>16.30303</td>\n",
       "      <td>32.839784</td>\n",
       "      <td>-3.786428</td>\n",
       "      <td>-7.722992</td>\n",
       "      <td>-12.190677</td>\n",
       "      <td>-5.471241</td>\n",
       "      <td>-17.098869</td>\n",
       "      <td>97.316441</td>\n",
       "      <td>-42.54208</td>\n",
       "      <td>-9.582883</td>\n",
       "      <td>-92.109171</td>\n",
       "      <td>-33.750218</td>\n",
       "      <td>39.739083</td>\n",
       "      <td>-10.071106</td>\n",
       "      <td>-53.538276</td>\n",
       "      <td>159.420473</td>\n",
       "      <td>98.358496</td>\n",
       "      <td>33.882035</td>\n",
       "      <td>148.223773</td>\n",
       "      <td>250.144043</td>\n",
       "      <td>-38.404202</td>\n",
       "      <td>-39.816359</td>\n",
       "      <td>-18.576987</td>\n",
       "      <td>-43.964776</td>\n",
       "      <td>17.416595</td>\n",
       "      <td>90.582164</td>\n",
       "      <td>-30.874379</td>\n",
       "      <td>-21.977892</td>\n",
       "      <td>3.585115</td>\n",
       "      <td>-31.129985</td>\n",
       "      <td>-5.21736</td>\n",
       "      <td>-29.659716</td>\n",
       "      <td>-20.737597</td>\n",
       "      <td>10.437914</td>\n",
       "      <td>282.624316</td>\n",
       "    </tr>\n",
       "  </tbody>\n",
       "</table>\n",
       "</div>"
      ],
      "text/plain": [
       "                   age    fnlwgt  education_no_of_years  \\\n",
       "change_odds% -2.909761 -0.000089             -24.720172   \n",
       "\n",
       "              working_hours_per_week  workclass_ Local-gov  \\\n",
       "change_odds%               -6.509515             91.397717   \n",
       "\n",
       "              workclass_ Never-worked  workclass_ Private  \\\n",
       "change_odds%                17.077427           52.177521   \n",
       "\n",
       "              workclass_ Self-emp-inc  workclass_ Self-emp-not-inc  \\\n",
       "change_odds%                 5.875744                   138.511383   \n",
       "\n",
       "              workclass_ State-gov  workclass_ Without-pay  workclass_Unknown  \\\n",
       "change_odds%             86.087701              190.097097          62.783014   \n",
       "\n",
       "              education_ 11th  education_ 12th  education_ 1st-4th  \\\n",
       "change_odds%        21.947984         1.515439           30.821974   \n",
       "\n",
       "              education_ 5th-6th  education_ 7th-8th  education_ 9th  \\\n",
       "change_odds%            1.472302            9.532701        16.30303   \n",
       "\n",
       "              education_ Assoc-acdm  education_ Assoc-voc  \\\n",
       "change_odds%              32.839784             -3.786428   \n",
       "\n",
       "              education_ Bachelors  education_ Doctorate  education_ HS-grad  \\\n",
       "change_odds%             -7.722992            -12.190677           -5.471241   \n",
       "\n",
       "              education_ Masters  education_ Preschool  \\\n",
       "change_odds%          -17.098869             97.316441   \n",
       "\n",
       "              education_ Prof-school  education_ Some-college  \\\n",
       "change_odds%               -42.54208                -9.582883   \n",
       "\n",
       "              marital_status_married  marital_status_not_married  \\\n",
       "change_odds%              -92.109171                  -33.750218   \n",
       "\n",
       "              occupation_ Armed-Forces  occupation_ Craft-repair  \\\n",
       "change_odds%                 39.739083                -10.071106   \n",
       "\n",
       "              occupation_ Exec-managerial  occupation_ Farming-fishing  \\\n",
       "change_odds%                   -53.538276                   159.420473   \n",
       "\n",
       "              occupation_ Handlers-cleaners  occupation_ Machine-op-inspct  \\\n",
       "change_odds%                      98.358496                      33.882035   \n",
       "\n",
       "              occupation_ Other-service  occupation_ Priv-house-serv  \\\n",
       "change_odds%                 148.223773                   250.144043   \n",
       "\n",
       "              occupation_ Prof-specialty  occupation_ Protective-serv  \\\n",
       "change_odds%                  -38.404202                   -39.816359   \n",
       "\n",
       "              occupation_ Sales  occupation_ Tech-support  \\\n",
       "change_odds%         -18.576987                -43.964776   \n",
       "\n",
       "              occupation_ Transport-moving  occupation_Unknown  \\\n",
       "change_odds%                     17.416595           90.582164   \n",
       "\n",
       "              race_ Asian-Pac-Islander  race_ Black  race_ Other  race_ White  \\\n",
       "change_odds%                -30.874379   -21.977892     3.585115   -31.129985   \n",
       "\n",
       "              sex_ Male  native_country_europe  native_country_north_america  \\\n",
       "change_odds%   -5.21736             -29.659716                    -20.737597   \n",
       "\n",
       "              native_country_other  native_country_south_america  \n",
       "change_odds%             10.437914                    282.624316  "
      ]
     },
     "execution_count": 67,
     "metadata": {},
     "output_type": "execute_result"
    }
   ],
   "source": [
    "perc_change_odds = (np.exp(lg.coef_[0])-1)*100 # finding the percentage change\n",
    "pd.set_option('display.max_columns',None) # removing limit from number of columns to display\n",
    "pd.DataFrame(perc_change_odds, X_train.columns, columns=['change_odds%']).T # adding the change_odds% to a dataframe"
   ]
  },
  {
   "cell_type": "markdown",
   "id": "approved-lecture",
   "metadata": {},
   "source": [
    "### Coefficient interpretations\n",
    "\n",
    "* `age`: Holding all other features constant a 1 unit change in Age will decrease the odds of a person having salary <=50k by 0.97 times or a 2.90% decrease in odds of having salary <=50K.\n",
    "* `education_no_of_years`: Holding all other features constant a 1 unit change in the education_no_of_years will decrease the odds of a person having salary <=50k by 0.75 times or a 24.7% decrease in odds of having salary <=50K.\n",
    "* `working_hours_per_week`: Holding all other features constant a 1 unit change in the working_hours_per_week will decrease the odds of a person having salary <=50k by 0.93 times or a decrease of 6.50% increase in odds of having salary <=50K.\n",
    "* The odds of a male having salary <=50K is 0.94 times less than a female or a 5.21% fewer odds than female.\n",
    "* The odds of a person whose marital status is married having a salary <=50K is 0.078 less than the person who was never married or 92.10% fewer odds of having salary <=50K. Similarly, The odds of a person whose marital status is not_married having a salary <=50K is 0.66 times less than the person who was never married or 33.75% fewer odds of having a salary <=50K than the person who was never married. [keeping Never_married category as a reference].\n",
    "\n",
    "`Interpretation for other attributes can be done similarly.`"
   ]
  },
  {
   "cell_type": "markdown",
   "id": "duplicate-chocolate",
   "metadata": {},
   "source": [
    "### Model Performance Improvement"
   ]
  },
  {
   "cell_type": "markdown",
   "id": "binary-withdrawal",
   "metadata": {},
   "source": [
    "* Let's see if the f1 score can be improved further, by changing the model threshold using AUC-ROC Curve."
   ]
  },
  {
   "cell_type": "markdown",
   "id": "disturbed-dividend",
   "metadata": {},
   "source": [
    "### Optimal threshold using AUC-ROC curve"
   ]
  },
  {
   "cell_type": "code",
   "execution_count": 68,
   "id": "informal-retention",
   "metadata": {},
   "outputs": [
    {
     "name": "stdout",
     "output_type": "stream",
     "text": [
      "0.7723692308375555\n"
     ]
    }
   ],
   "source": [
    "# Optimal threshold as per AUC-ROC curve\n",
    "# The optimal cut off would be where tpr is high and fpr is low\n",
    "fpr, tpr, thresholds = metrics.roc_curve(y_test, lg.predict_proba(X_test)[:,1])\n",
    "\n",
    "optimal_idx = np.argmax(tpr - fpr)\n",
    "optimal_threshold_auc_roc = thresholds[optimal_idx]\n",
    "print(optimal_threshold_auc_roc)"
   ]
  },
  {
   "cell_type": "code",
   "execution_count": 69,
   "id": "experimental-bibliography",
   "metadata": {},
   "outputs": [
    {
     "name": "stdout",
     "output_type": "stream",
     "text": [
      "Accuracy on training set :  0.7817655317655318\n",
      "Accuracy on test set :  0.7812468011055379\n",
      "Recall on training set :  0.7588235294117647\n",
      "Recall on test set :  0.7580132450331126\n",
      "Precision on training set :  0.9399076612321454\n",
      "Precision on test set :  0.9486159456323554\n",
      "F1 on training set :  0.8397138437741686\n",
      "F1 on test set :  0.8426709857910624\n",
      "ROC-AUC Score on training set :  0.8053278088182979\n",
      "ROC-AUC Score on test set :  0.8091553381542309\n"
     ]
    }
   ],
   "source": [
    "scores_LR = get_metrics_score(lg,X_train,X_test,y_train,y_test,threshold=optimal_threshold_auc_roc,roc=True)"
   ]
  },
  {
   "cell_type": "markdown",
   "id": "marine-shield",
   "metadata": {},
   "source": [
    "* The precision of the model has improved but the F1 score has reduced on training and test set."
   ]
  },
  {
   "cell_type": "markdown",
   "id": "documented-channels",
   "metadata": {},
   "source": [
    "#### Let's use Precision-Recall curve and see if we can find a better threshold"
   ]
  },
  {
   "cell_type": "code",
   "execution_count": 70,
   "id": "scientific-plain",
   "metadata": {},
   "outputs": [
    {
     "data": {
      "image/png": "[encoded data removed]",
      "text/plain": [
       "<Figure size 720x504 with 1 Axes>"
      ]
     },
     "metadata": {},
     "output_type": "display_data"
    }
   ],
   "source": [
    "y_scores=lg.predict_proba(X_train)[:,1]\n",
    "prec, rec, tre = precision_recall_curve(y_train, y_scores,)\n",
    "\n",
    "def plot_prec_recall_vs_tresh(precisions, recalls, thresholds):\n",
    "    plt.plot(thresholds, precisions[:-1], 'b--', label='precision')\n",
    "    plt.plot(thresholds, recalls[:-1], 'g--', label = 'recall')\n",
    "    plt.xlabel('Threshold')\n",
    "    plt.legend(loc='upper left')\n",
    "    plt.ylim([0,1])\n",
    "plt.figure(figsize=(10,7))\n",
    "plot_prec_recall_vs_tresh(prec, rec, tre)\n",
    "plt.show()"
   ]
  },
  {
   "cell_type": "markdown",
   "id": "double-cholesterol",
   "metadata": {},
   "source": [
    "* At the threshold of 0.58, we get balanced recall and precision."
   ]
  },
  {
   "cell_type": "code",
   "execution_count": 71,
   "id": "continuous-hostel",
   "metadata": {},
   "outputs": [
    {
     "name": "stdout",
     "output_type": "stream",
     "text": [
      "Accuracy on training set :  0.8322218322218322\n",
      "Accuracy on test set :  0.8282321629644794\n",
      "Recall on training set :  0.8907979033197437\n",
      "Recall on test set :  0.879205298013245\n",
      "Precision on training set :  0.8869751797726746\n",
      "Precision on test set :  0.8965424095083738\n",
      "F1 on training set :  0.8888824315685476\n",
      "F1 on test set :  0.8877892202755115\n",
      "ROC-AUC Score on training set :  0.7720620608736748\n",
      "ROC-AUC Score on test set :  0.767002378614554\n"
     ]
    }
   ],
   "source": [
    "optimal_threshold_curve = 0.58\n",
    "\n",
    "scores_LR = get_metrics_score(lg,X_train,X_test,y_train,y_test,threshold=optimal_threshold_curve,roc=True)"
   ]
  },
  {
   "cell_type": "markdown",
   "id": "shared-calibration",
   "metadata": {},
   "source": [
    "* Model is performing well on training and test set.\n",
    "* There's not much improvement in the model performance as the default threshold is 0.50 and here we get 0.58 as the optimal threshold."
   ]
  },
  {
   "cell_type": "markdown",
   "id": "sublime-denver",
   "metadata": {},
   "source": [
    "## Note: Kindly  do not run the code cells containing the Sequential Feature Selector implementation during the session, since that algorithm takes considerable time to run."
   ]
  },
  {
   "cell_type": "markdown",
   "id": "elect-aquatic",
   "metadata": {},
   "source": [
    "### Sequential Feature Selector"
   ]
  },
  {
   "cell_type": "markdown",
   "id": "working-alberta",
   "metadata": {
    "id": "SFMw7bts9WM6"
   },
   "source": [
    "#### Selecting subset of important features using Sequential Feature Selector method"
   ]
  },
  {
   "cell_type": "markdown",
   "id": "received-trustee",
   "metadata": {
    "id": "rpRL4kHM9WM6"
   },
   "source": [
    "**Why we should do feature selection?**\n",
    "\n",
    "- Reduces dimensionality.\n",
    "- Discards deceptive features (Deceptive features appear to aid learning on the training set, but impair generalization).\n",
    "- Speeds training/testing."
   ]
  },
  {
   "cell_type": "markdown",
   "id": "minimal-cardiff",
   "metadata": {
    "id": "5u1dqCM39WM6"
   },
   "source": [
    "### How sequential feature selector works?\n",
    "* It starts with an empty model and adds in variables one by one.\n",
    "* In each forward step, you add the one variable that gives the highest improvement to your model."
   ]
  },
  {
   "cell_type": "code",
   "execution_count": 72,
   "id": "compliant-highway",
   "metadata": {
    "id": "pFQ8zp8n9WM6"
   },
   "outputs": [],
   "source": [
    "# Sequential feature selector is present in mlxtend library\n",
    "# !pip install mlxtend to install mlxtent library\n",
    "\n",
    "from mlxtend.feature_selection import SequentialFeatureSelector as SFS\n",
    "\n",
    "# to plot the performance with addition of each feature\n",
    "from mlxtend.plotting import plot_sequential_feature_selection as plot_sfs"
   ]
  },
  {
   "cell_type": "code",
   "execution_count": 73,
   "id": "listed-tenant",
   "metadata": {
    "id": "2wOVBRzPXxEw"
   },
   "outputs": [],
   "source": [
    "## Defining X and Y variables\n",
    "X = data.drop(['salary'], axis=1)\n",
    "Y = data['salary']\n",
    "\n",
    "#Convert categorical variables to dummy variables\n",
    "X = pd.get_dummies(X, drop_first=True)\n",
    "X_train, X_test, y_train, y_test = train_test_split(X,Y, test_size=0.30,random_state=1)"
   ]
  },
  {
   "cell_type": "code",
   "execution_count": 74,
   "id": "endless-scale",
   "metadata": {
    "id": "19DckRL39WM8"
   },
   "outputs": [],
   "source": [
    "#from sklearn.linear_model import LogisticRegression\n",
    "\n",
    "# Fit the model on train\n",
    "model = LogisticRegression(solver='newton-cg',n_jobs=-1,random_state=1,max_iter=100)"
   ]
  },
  {
   "cell_type": "code",
   "execution_count": 75,
   "id": "altered-broadcast",
   "metadata": {
    "colab": {
     "base_uri": "https://localhost:8080/"
    },
    "id": "OZusKtpL9WM_",
    "outputId": "8f697bab-38f5-4fad-da7c-d7c20e89fcd0"
   },
   "outputs": [
    {
     "data": {
      "text/plain": [
       "(22792, 52)"
      ]
     },
     "execution_count": 75,
     "metadata": {},
     "output_type": "execute_result"
    }
   ],
   "source": [
    "X_train.shape"
   ]
  },
  {
   "cell_type": "code",
   "execution_count": 76,
   "id": "convinced-standard",
   "metadata": {
    "id": "M-7MZ6dH9WNB",
    "outputId": "9d1fcb7e-4f20-4f12-a922-ada687635f9f",
    "scrolled": true
   },
   "outputs": [
    {
     "name": "stderr",
     "output_type": "stream",
     "text": [
      "[Parallel(n_jobs=-1)]: Using backend LokyBackend with 8 concurrent workers.\n",
      "[Parallel(n_jobs=-1)]: Done  25 tasks      | elapsed:    5.9s\n",
      "[Parallel(n_jobs=-1)]: Done  52 out of  52 | elapsed:    7.4s finished\n",
      "\n",
      "[2021-05-20 20:18:19] Features: 1/52 -- score: 0.8651903328467779[Parallel(n_jobs=-1)]: Using backend LokyBackend with 8 concurrent workers.\n",
      "[Parallel(n_jobs=-1)]: Done  25 tasks      | elapsed:    2.3s\n",
      "[Parallel(n_jobs=-1)]: Done  51 out of  51 | elapsed:    4.3s finished\n",
      "\n",
      "[2021-05-20 20:18:24] Features: 2/52 -- score: 0.8828389862839133[Parallel(n_jobs=-1)]: Using backend LokyBackend with 8 concurrent workers.\n",
      "[Parallel(n_jobs=-1)]: Done  25 tasks      | elapsed:    2.3s\n",
      "[Parallel(n_jobs=-1)]: Done  50 out of  50 | elapsed:    5.3s finished\n",
      "\n",
      "[2021-05-20 20:18:29] Features: 3/52 -- score: 0.8862069032832736[Parallel(n_jobs=-1)]: Using backend LokyBackend with 8 concurrent workers.\n",
      "[Parallel(n_jobs=-1)]: Done  25 tasks      | elapsed:    2.7s\n",
      "[Parallel(n_jobs=-1)]: Done  49 out of  49 | elapsed:    5.9s finished\n",
      "\n",
      "[2021-05-20 20:18:35] Features: 4/52 -- score: 0.8875747876863729[Parallel(n_jobs=-1)]: Using backend LokyBackend with 8 concurrent workers.\n",
      "[Parallel(n_jobs=-1)]: Done  25 tasks      | elapsed:    3.1s\n",
      "[Parallel(n_jobs=-1)]: Done  48 out of  48 | elapsed:    6.6s finished\n",
      "\n",
      "[2021-05-20 20:18:42] Features: 5/52 -- score: 0.8884882643444155[Parallel(n_jobs=-1)]: Using backend LokyBackend with 8 concurrent workers.\n",
      "[Parallel(n_jobs=-1)]: Done  25 tasks      | elapsed:    2.9s\n",
      "[Parallel(n_jobs=-1)]: Done  47 out of  47 | elapsed:    6.0s finished\n",
      "\n",
      "[2021-05-20 20:18:49] Features: 6/52 -- score: 0.8892070613158931[Parallel(n_jobs=-1)]: Using backend LokyBackend with 8 concurrent workers.\n",
      "[Parallel(n_jobs=-1)]: Done  25 tasks      | elapsed:    3.3s\n",
      "[Parallel(n_jobs=-1)]: Done  46 out of  46 | elapsed:    6.5s finished\n",
      "\n",
      "[2021-05-20 20:18:56] Features: 7/52 -- score: 0.8896852390015123[Parallel(n_jobs=-1)]: Using backend LokyBackend with 8 concurrent workers.\n",
      "[Parallel(n_jobs=-1)]: Done  25 tasks      | elapsed:    3.7s\n",
      "[Parallel(n_jobs=-1)]: Done  45 out of  45 | elapsed:    6.9s finished\n",
      "\n",
      "[2021-05-20 20:19:03] Features: 8/52 -- score: 0.8901068994337509[Parallel(n_jobs=-1)]: Using backend LokyBackend with 8 concurrent workers.\n",
      "[Parallel(n_jobs=-1)]: Done  25 tasks      | elapsed:    4.5s\n",
      "[Parallel(n_jobs=-1)]: Done  44 out of  44 | elapsed:    8.3s finished\n",
      "\n",
      "[2021-05-20 20:19:12] Features: 9/52 -- score: 0.8902906332250029[Parallel(n_jobs=-1)]: Using backend LokyBackend with 8 concurrent workers.\n",
      "[Parallel(n_jobs=-1)]: Done  25 tasks      | elapsed:    5.2s\n",
      "[Parallel(n_jobs=-1)]: Done  43 out of  43 | elapsed:    9.2s finished\n",
      "\n",
      "[2021-05-20 20:19:21] Features: 10/52 -- score: 0.8903643038353372[Parallel(n_jobs=-1)]: Using backend LokyBackend with 8 concurrent workers.\n",
      "[Parallel(n_jobs=-1)]: Done  25 tasks      | elapsed:    5.7s\n",
      "[Parallel(n_jobs=-1)]: Done  42 out of  42 | elapsed:    9.5s finished\n",
      "\n",
      "[2021-05-20 20:19:32] Features: 11/52 -- score: 0.8904957796706783[Parallel(n_jobs=-1)]: Using backend LokyBackend with 8 concurrent workers.\n",
      "[Parallel(n_jobs=-1)]: Done  25 tasks      | elapsed:    5.8s\n",
      "[Parallel(n_jobs=-1)]: Done  41 out of  41 | elapsed:    9.7s finished\n",
      "\n",
      "[2021-05-20 20:19:42] Features: 12/52 -- score: 0.8906061236513695[Parallel(n_jobs=-1)]: Using backend LokyBackend with 8 concurrent workers.\n",
      "[Parallel(n_jobs=-1)]: Done  25 tasks      | elapsed:    6.4s\n",
      "[Parallel(n_jobs=-1)]: Done  40 out of  40 | elapsed:   10.1s finished\n",
      "\n",
      "[2021-05-20 20:19:53] Features: 13/52 -- score: 0.8906367413504399[Parallel(n_jobs=-1)]: Using backend LokyBackend with 8 concurrent workers.\n",
      "[Parallel(n_jobs=-1)]: Done  39 out of  39 | elapsed:   11.2s finished\n",
      "\n",
      "[2021-05-20 20:20:05] Features: 14/52 -- score: 0.8906672980954302[Parallel(n_jobs=-1)]: Using backend LokyBackend with 8 concurrent workers.\n",
      "[Parallel(n_jobs=-1)]: Done  38 out of  38 | elapsed:   10.8s finished\n",
      "\n",
      "[2021-05-20 20:20:17] Features: 15/52 -- score: 0.8907926306879168[Parallel(n_jobs=-1)]: Using backend LokyBackend with 8 concurrent workers.\n",
      "[Parallel(n_jobs=-1)]: Done  37 out of  37 | elapsed:   11.4s finished\n",
      "\n",
      "[2021-05-20 20:20:28] Features: 16/52 -- score: 0.8907926306879168[Parallel(n_jobs=-1)]: Using backend LokyBackend with 8 concurrent workers.\n",
      "[Parallel(n_jobs=-1)]: Done  36 out of  36 | elapsed:   12.1s finished\n",
      "\n",
      "[2021-05-20 20:20:40] Features: 17/52 -- score: 0.8907926306879168[Parallel(n_jobs=-1)]: Using backend LokyBackend with 8 concurrent workers.\n",
      "[Parallel(n_jobs=-1)]: Done  35 out of  35 | elapsed:   12.2s finished\n",
      "\n",
      "[2021-05-20 20:20:53] Features: 18/52 -- score: 0.8907926306879168[Parallel(n_jobs=-1)]: Using backend LokyBackend with 8 concurrent workers.\n",
      "[Parallel(n_jobs=-1)]: Done  34 out of  34 | elapsed:   14.5s finished\n",
      "\n",
      "[2021-05-20 20:21:09] Features: 19/52 -- score: 0.8907926306879168[Parallel(n_jobs=-1)]: Using backend LokyBackend with 8 concurrent workers.\n",
      "[Parallel(n_jobs=-1)]: Done  33 out of  33 | elapsed:   15.6s finished\n",
      "\n",
      "[2021-05-20 20:21:26] Features: 20/52 -- score: 0.8907926306879168[Parallel(n_jobs=-1)]: Using backend LokyBackend with 8 concurrent workers.\n",
      "[Parallel(n_jobs=-1)]: Done  32 out of  32 | elapsed:   13.7s finished\n",
      "\n",
      "[2021-05-20 20:21:40] Features: 21/52 -- score: 0.8907926306879168[Parallel(n_jobs=-1)]: Using backend LokyBackend with 8 concurrent workers.\n",
      "[Parallel(n_jobs=-1)]: Done  31 out of  31 | elapsed:   13.0s finished\n",
      "\n",
      "[2021-05-20 20:21:54] Features: 22/52 -- score: 0.8907926306879168[Parallel(n_jobs=-1)]: Using backend LokyBackend with 8 concurrent workers.\n",
      "[Parallel(n_jobs=-1)]: Done  30 out of  30 | elapsed:   13.5s finished\n",
      "\n",
      "[2021-05-20 20:22:09] Features: 23/52 -- score: 0.8907926306879168[Parallel(n_jobs=-1)]: Using backend LokyBackend with 8 concurrent workers.\n",
      "[Parallel(n_jobs=-1)]: Done  29 out of  29 | elapsed:   12.7s remaining:    0.0s\n",
      "[Parallel(n_jobs=-1)]: Done  29 out of  29 | elapsed:   12.7s finished\n",
      "\n",
      "[2021-05-20 20:22:22] Features: 24/52 -- score: 0.8907926306879168[Parallel(n_jobs=-1)]: Using backend LokyBackend with 8 concurrent workers.\n",
      "[Parallel(n_jobs=-1)]: Done  28 out of  28 | elapsed:   13.3s remaining:    0.0s\n",
      "[Parallel(n_jobs=-1)]: Done  28 out of  28 | elapsed:   13.3s finished\n",
      "\n",
      "[2021-05-20 20:22:36] Features: 25/52 -- score: 0.8908292957112015[Parallel(n_jobs=-1)]: Using backend LokyBackend with 8 concurrent workers.\n",
      "[Parallel(n_jobs=-1)]: Done  27 out of  27 | elapsed:   14.5s finished\n",
      "\n",
      "[2021-05-20 20:22:51] Features: 26/52 -- score: 0.890932811056032[Parallel(n_jobs=-1)]: Using backend LokyBackend with 8 concurrent workers.\n",
      "[Parallel(n_jobs=-1)]: Done  26 out of  26 | elapsed:   16.8s finished\n",
      "\n",
      "[2021-05-20 20:23:08] Features: 27/52 -- score: 0.8910053488919729[Parallel(n_jobs=-1)]: Using backend LokyBackend with 8 concurrent workers.\n",
      "[Parallel(n_jobs=-1)]: Done  23 out of  25 | elapsed:   14.0s remaining:    1.1s\n",
      "[Parallel(n_jobs=-1)]: Done  25 out of  25 | elapsed:   16.3s finished\n",
      "\n",
      "[2021-05-20 20:23:24] Features: 28/52 -- score: 0.8911603220400148[Parallel(n_jobs=-1)]: Using backend LokyBackend with 8 concurrent workers.\n",
      "[Parallel(n_jobs=-1)]: Done  22 out of  24 | elapsed:   14.0s remaining:    1.2s\n",
      "[Parallel(n_jobs=-1)]: Done  24 out of  24 | elapsed:   16.6s finished\n",
      "\n",
      "[2021-05-20 20:23:41] Features: 29/52 -- score: 0.8912527348296061[Parallel(n_jobs=-1)]: Using backend LokyBackend with 8 concurrent workers.\n",
      "[Parallel(n_jobs=-1)]: Done  20 out of  23 | elapsed:   13.9s remaining:    2.0s\n",
      "[Parallel(n_jobs=-1)]: Done  23 out of  23 | elapsed:   17.1s finished\n",
      "\n",
      "[2021-05-20 20:23:58] Features: 30/52 -- score: 0.8912835276336901[Parallel(n_jobs=-1)]: Using backend LokyBackend with 8 concurrent workers.\n",
      "[Parallel(n_jobs=-1)]: Done  19 out of  22 | elapsed:   13.0s remaining:    2.0s\n",
      "[Parallel(n_jobs=-1)]: Done  22 out of  22 | elapsed:   16.2s finished\n",
      "\n",
      "[2021-05-20 20:24:15] Features: 31/52 -- score: 0.8912457220757716[Parallel(n_jobs=-1)]: Using backend LokyBackend with 8 concurrent workers.\n",
      "[Parallel(n_jobs=-1)]: Done  17 out of  21 | elapsed:   11.8s remaining:    2.7s\n",
      "[Parallel(n_jobs=-1)]: Done  21 out of  21 | elapsed:   14.5s finished\n",
      "\n",
      "[2021-05-20 20:24:29] Features: 32/52 -- score: 0.8912587024760938[Parallel(n_jobs=-1)]: Using backend LokyBackend with 8 concurrent workers.\n"
     ]
    },
    {
     "name": "stderr",
     "output_type": "stream",
     "text": [
      "[Parallel(n_jobs=-1)]: Done  16 out of  20 | elapsed:   11.7s remaining:    2.8s\n",
      "[Parallel(n_jobs=-1)]: Done  20 out of  20 | elapsed:   15.9s finished\n",
      "\n",
      "[2021-05-20 20:24:46] Features: 33/52 -- score: 0.8912209124760316[Parallel(n_jobs=-1)]: Using backend LokyBackend with 8 concurrent workers.\n",
      "[Parallel(n_jobs=-1)]: Done  14 out of  19 | elapsed:   10.1s remaining:    3.6s\n",
      "[Parallel(n_jobs=-1)]: Done  19 out of  19 | elapsed:   14.4s finished\n",
      "\n",
      "[2021-05-20 20:25:00] Features: 34/52 -- score: 0.8911901196719475[Parallel(n_jobs=-1)]: Using backend LokyBackend with 8 concurrent workers.\n",
      "[Parallel(n_jobs=-1)]: Done  13 out of  18 | elapsed:   10.9s remaining:    4.1s\n",
      "[Parallel(n_jobs=-1)]: Done  18 out of  18 | elapsed:   15.3s finished\n",
      "\n",
      "[2021-05-20 20:25:16] Features: 35/52 -- score: 0.8911641015674409[Parallel(n_jobs=-1)]: Using backend LokyBackend with 8 concurrent workers.\n",
      "[Parallel(n_jobs=-1)]: Done  11 out of  17 | elapsed:    9.8s remaining:    5.3s\n",
      "[Parallel(n_jobs=-1)]: Done  17 out of  17 | elapsed:   14.4s finished\n",
      "\n",
      "[2021-05-20 20:25:30] Features: 36/52 -- score: 0.8911700456736117[Parallel(n_jobs=-1)]: Using backend LokyBackend with 8 concurrent workers.\n",
      "[Parallel(n_jobs=-1)]: Done  10 out of  16 | elapsed:    9.3s remaining:    5.5s\n",
      "[Parallel(n_jobs=-1)]: Done  16 out of  16 | elapsed:   14.2s finished\n",
      "\n",
      "[2021-05-20 20:25:45] Features: 37/52 -- score: 0.891145466467323[Parallel(n_jobs=-1)]: Using backend LokyBackend with 8 concurrent workers.\n",
      "[Parallel(n_jobs=-1)]: Done   8 out of  15 | elapsed:   10.3s remaining:    9.0s\n",
      "[Parallel(n_jobs=-1)]: Done  15 out of  15 | elapsed:   16.2s finished\n",
      "\n",
      "[2021-05-20 20:26:01] Features: 38/52 -- score: 0.8911395984741782[Parallel(n_jobs=-1)]: Using backend LokyBackend with 8 concurrent workers.\n",
      "[Parallel(n_jobs=-1)]: Done   7 out of  14 | elapsed:    8.0s remaining:    8.0s\n",
      "[Parallel(n_jobs=-1)]: Done  14 out of  14 | elapsed:   14.5s finished\n",
      "\n",
      "[2021-05-20 20:26:16] Features: 39/52 -- score: 0.8910429886536747[Parallel(n_jobs=-1)]: Using backend LokyBackend with 8 concurrent workers.\n",
      "[Parallel(n_jobs=-1)]: Done   5 out of  13 | elapsed:    5.4s remaining:    8.6s\n",
      "[Parallel(n_jobs=-1)]: Done  13 out of  13 | elapsed:   14.1s finished\n",
      "\n",
      "[2021-05-20 20:26:30] Features: 40/52 -- score: 0.8910798962584457[Parallel(n_jobs=-1)]: Using backend LokyBackend with 8 concurrent workers.\n",
      "[Parallel(n_jobs=-1)]: Done   4 out of  12 | elapsed:    5.7s remaining:   11.5s\n",
      "[Parallel(n_jobs=-1)]: Done  12 out of  12 | elapsed:   14.9s finished\n",
      "\n",
      "[2021-05-20 20:26:45] Features: 41/52 -- score: 0.8913095730050372[Parallel(n_jobs=-1)]: Using backend LokyBackend with 8 concurrent workers.\n",
      "[Parallel(n_jobs=-1)]: Done   2 out of  11 | elapsed:    6.8s remaining:   30.7s\n",
      "[Parallel(n_jobs=-1)]: Done   8 out of  11 | elapsed:    8.6s remaining:    3.2s\n",
      "[Parallel(n_jobs=-1)]: Done  11 out of  11 | elapsed:   13.3s finished\n",
      "\n",
      "[2021-05-20 20:26:59] Features: 42/52 -- score: 0.891217286572996[Parallel(n_jobs=-1)]: Using backend LokyBackend with 8 concurrent workers.\n",
      "[Parallel(n_jobs=-1)]: Done   7 out of  10 | elapsed:    8.7s remaining:    3.7s\n",
      "[Parallel(n_jobs=-1)]: Done  10 out of  10 | elapsed:   14.5s finished\n",
      "\n",
      "[2021-05-20 20:27:14] Features: 43/52 -- score: 0.8911665148510176[Parallel(n_jobs=-1)]: Using backend LokyBackend with 8 concurrent workers.\n",
      "[Parallel(n_jobs=-1)]: Done   4 out of   9 | elapsed:    7.6s remaining:    9.6s\n",
      "[Parallel(n_jobs=-1)]: Done   9 out of   9 | elapsed:   14.2s remaining:    0.0s\n",
      "[Parallel(n_jobs=-1)]: Done   9 out of   9 | elapsed:   14.2s finished\n",
      "\n",
      "[2021-05-20 20:27:28] Features: 44/52 -- score: 0.8915935063578665[Parallel(n_jobs=-1)]: Using backend LokyBackend with 8 concurrent workers.\n",
      "[Parallel(n_jobs=-1)]: Done   3 out of   8 | elapsed:   10.0s remaining:   16.7s\n",
      "[Parallel(n_jobs=-1)]: Done   8 out of   8 | elapsed:   15.3s remaining:    0.0s\n",
      "[Parallel(n_jobs=-1)]: Done   8 out of   8 | elapsed:   15.3s finished\n",
      "\n",
      "[2021-05-20 20:27:44] Features: 45/52 -- score: 0.8916442986527312[Parallel(n_jobs=-1)]: Using backend LokyBackend with 8 concurrent workers.\n",
      "[Parallel(n_jobs=-1)]: Done   4 out of   7 | elapsed:    8.9s remaining:    6.7s\n",
      "[Parallel(n_jobs=-1)]: Done   7 out of   7 | elapsed:   14.3s finished\n",
      "\n",
      "[2021-05-20 20:27:58] Features: 46/52 -- score: 0.8923584334952945[Parallel(n_jobs=-1)]: Using backend LokyBackend with 8 concurrent workers.\n",
      "[Parallel(n_jobs=-1)]: Done   3 out of   6 | elapsed:   10.2s remaining:   10.2s\n",
      "[Parallel(n_jobs=-1)]: Done   6 out of   6 | elapsed:   14.9s finished\n",
      "\n",
      "[2021-05-20 20:28:14] Features: 47/52 -- score: 0.8923273410960775[Parallel(n_jobs=-1)]: Using backend LokyBackend with 8 concurrent workers.\n",
      "[Parallel(n_jobs=-1)]: Done   2 out of   5 | elapsed:    8.4s remaining:   12.7s\n",
      "[Parallel(n_jobs=-1)]: Done   5 out of   5 | elapsed:   14.0s remaining:    0.0s\n",
      "[Parallel(n_jobs=-1)]: Done   5 out of   5 | elapsed:   14.0s finished\n",
      "\n",
      "[2021-05-20 20:28:28] Features: 48/52 -- score: 0.8921709551922617[Parallel(n_jobs=-1)]: Using backend LokyBackend with 8 concurrent workers.\n",
      "[Parallel(n_jobs=-1)]: Done   4 out of   4 | elapsed:   12.0s remaining:    0.0s\n",
      "[Parallel(n_jobs=-1)]: Done   4 out of   4 | elapsed:   12.0s finished\n",
      "\n",
      "[2021-05-20 20:28:40] Features: 49/52 -- score: 0.8922101879894231[Parallel(n_jobs=-1)]: Using backend LokyBackend with 8 concurrent workers.\n",
      "[Parallel(n_jobs=-1)]: Done   3 out of   3 | elapsed:   10.1s finished\n",
      "\n",
      "[2021-05-20 20:28:51] Features: 50/52 -- score: 0.892162472823888[Parallel(n_jobs=-1)]: Using backend LokyBackend with 8 concurrent workers.\n",
      "[Parallel(n_jobs=-1)]: Done   2 out of   2 | elapsed:    8.2s finished\n",
      "\n",
      "[2021-05-20 20:28:59] Features: 51/52 -- score: 0.8921165391333186[Parallel(n_jobs=-1)]: Using backend LokyBackend with 8 concurrent workers.\n",
      "[Parallel(n_jobs=-1)]: Done   1 out of   1 | elapsed:    7.6s finished\n",
      "\n",
      "[2021-05-20 20:29:07] Features: 52/52 -- score: 0.8919397767288006"
     ]
    }
   ],
   "source": [
    "# we will first build model with all varaible\n",
    "sfs = SFS(model, k_features=52, forward=True, floating=False, scoring='f1', verbose=2, cv=3,n_jobs=-1)\n",
    "\n",
    "sfs = sfs.fit(X_train, y_train)"
   ]
  },
  {
   "cell_type": "code",
   "execution_count": 77,
   "id": "atmospheric-insured",
   "metadata": {},
   "outputs": [
    {
     "data": {
      "image/png": "[encoded data removed]",
      "text/plain": [
       "<Figure size 864x360 with 1 Axes>"
      ]
     },
     "metadata": {},
     "output_type": "display_data"
    }
   ],
   "source": [
    "fig1 = plot_sfs(sfs.get_metric_dict(),kind='std_dev',figsize=(12,5))\n",
    "plt.ylim([0.8, 1])\n",
    "plt.title('Sequential Forward Selection (w. StdDev)')\n",
    "plt.xticks(rotation=90)\n",
    "plt.show()"
   ]
  },
  {
   "cell_type": "markdown",
   "id": "fifty-actress",
   "metadata": {
    "id": "dT4ZvbUu9WNC"
   },
   "source": [
    "* We can see that performance increases till the 8th feature and then became constant.\n",
    "* So we'll use 8 features only to build our mode but the choice of k_features it depends on the business context and use case of the model."
   ]
  },
  {
   "cell_type": "code",
   "execution_count": 78,
   "id": "sixth-notice",
   "metadata": {
    "colab": {
     "base_uri": "https://localhost:8080/",
     "height": 331
    },
    "id": "l4DwhfO69WNC",
    "outputId": "af545ea1-f28b-431d-e239-6905a315f41a",
    "scrolled": true
   },
   "outputs": [
    {
     "name": "stderr",
     "output_type": "stream",
     "text": [
      "[Parallel(n_jobs=-1)]: Using backend LokyBackend with 8 concurrent workers.\n",
      "[Parallel(n_jobs=-1)]: Done  37 out of  52 | elapsed:    1.5s remaining:    0.5s\n",
      "[Parallel(n_jobs=-1)]: Done  52 out of  52 | elapsed:    2.7s finished\n",
      "\n",
      "[2021-05-20 20:29:13] Features: 1/8 -- score: 0.8651903328467779[Parallel(n_jobs=-1)]: Using backend LokyBackend with 8 concurrent workers.\n",
      "[Parallel(n_jobs=-1)]: Done  25 tasks      | elapsed:    2.7s\n",
      "[Parallel(n_jobs=-1)]: Done  51 out of  51 | elapsed:    5.4s finished\n",
      "\n",
      "[2021-05-20 20:29:18] Features: 2/8 -- score: 0.8828389862839133[Parallel(n_jobs=-1)]: Using backend LokyBackend with 8 concurrent workers.\n",
      "[Parallel(n_jobs=-1)]: Done  25 tasks      | elapsed:    2.8s\n",
      "[Parallel(n_jobs=-1)]: Done  50 out of  50 | elapsed:    6.0s finished\n",
      "\n",
      "[2021-05-20 20:29:24] Features: 3/8 -- score: 0.8862069032832736[Parallel(n_jobs=-1)]: Using backend LokyBackend with 8 concurrent workers.\n",
      "[Parallel(n_jobs=-1)]: Done  25 tasks      | elapsed:    3.4s\n",
      "[Parallel(n_jobs=-1)]: Done  49 out of  49 | elapsed:    6.8s finished\n",
      "\n",
      "[2021-05-20 20:29:31] Features: 4/8 -- score: 0.8875747876863729[Parallel(n_jobs=-1)]: Using backend LokyBackend with 8 concurrent workers.\n",
      "[Parallel(n_jobs=-1)]: Done  25 tasks      | elapsed:    2.9s\n",
      "[Parallel(n_jobs=-1)]: Done  48 out of  48 | elapsed:    5.9s finished\n",
      "\n",
      "[2021-05-20 20:29:37] Features: 5/8 -- score: 0.8884882643444155[Parallel(n_jobs=-1)]: Using backend LokyBackend with 8 concurrent workers.\n",
      "[Parallel(n_jobs=-1)]: Done  25 tasks      | elapsed:    3.1s\n",
      "[Parallel(n_jobs=-1)]: Done  47 out of  47 | elapsed:    5.9s finished\n",
      "\n",
      "[2021-05-20 20:29:44] Features: 6/8 -- score: 0.8892070613158931[Parallel(n_jobs=-1)]: Using backend LokyBackend with 8 concurrent workers.\n",
      "[Parallel(n_jobs=-1)]: Done  25 tasks      | elapsed:    3.0s\n",
      "[Parallel(n_jobs=-1)]: Done  46 out of  46 | elapsed:    5.6s finished\n",
      "\n",
      "[2021-05-20 20:29:50] Features: 7/8 -- score: 0.8896852390015123[Parallel(n_jobs=-1)]: Using backend LokyBackend with 8 concurrent workers.\n",
      "[Parallel(n_jobs=-1)]: Done  25 tasks      | elapsed:    3.1s\n",
      "[Parallel(n_jobs=-1)]: Done  45 out of  45 | elapsed:    6.0s finished\n",
      "\n",
      "[2021-05-20 20:29:57] Features: 8/8 -- score: 0.8901068994337509"
     ]
    },
    {
     "data": {
      "image/png": "[encoded data removed]",
      "text/plain": [
       "<Figure size 720x360 with 1 Axes>"
      ]
     },
     "metadata": {},
     "output_type": "display_data"
    }
   ],
   "source": [
    "sfs1 = SFS(model, k_features=8, forward=True, floating=False, scoring='f1', verbose=2, cv=3,n_jobs=-1)\n",
    "\n",
    "sfs1 = sfs1.fit(X_train, y_train)\n",
    "\n",
    "fig1 = plot_sfs(sfs1.get_metric_dict(),kind='std_dev',figsize=(10,5))\n",
    "\n",
    "plt.ylim([0.8, 1])\n",
    "plt.title('Sequential Forward Selection (w. StdDev)')\n",
    "plt.grid()\n",
    "plt.show()"
   ]
  },
  {
   "cell_type": "markdown",
   "id": "enhanced-composition",
   "metadata": {},
   "source": [
    "**Finding which features are important?**"
   ]
  },
  {
   "cell_type": "code",
   "execution_count": 79,
   "id": "opening-silicon",
   "metadata": {
    "colab": {
     "base_uri": "https://localhost:8080/"
    },
    "id": "pnYxXaJF9WNE",
    "outputId": "009399d4-5000-42e1-a9e5-e26b83396b75"
   },
   "outputs": [
    {
     "name": "stdout",
     "output_type": "stream",
     "text": [
      "[2, 7, 11, 18, 27, 31, 32, 35]\n"
     ]
    }
   ],
   "source": [
    "feat_cols = list(sfs1.k_feature_idx_)\n",
    "print(feat_cols)"
   ]
  },
  {
   "cell_type": "markdown",
   "id": "innovative-phone",
   "metadata": {},
   "source": [
    "**Let's look at best 8 variables**"
   ]
  },
  {
   "cell_type": "code",
   "execution_count": 80,
   "id": "governing-mailing",
   "metadata": {
    "colab": {
     "base_uri": "https://localhost:8080/"
    },
    "id": "6WTweEkC9WNF",
    "outputId": "215a4a1f-a481-4e02-beca-4bc7509c615e"
   },
   "outputs": [
    {
     "data": {
      "text/plain": [
       "Index(['education_no_of_years', 'workclass_ Self-emp-inc', 'workclass_Unknown',\n",
       "       'education_ Assoc-acdm', 'marital_status_married',\n",
       "       'occupation_ Exec-managerial', 'occupation_ Farming-fishing',\n",
       "       'occupation_ Other-service'],\n",
       "      dtype='object')"
      ]
     },
     "execution_count": 80,
     "metadata": {},
     "output_type": "execute_result"
    }
   ],
   "source": [
    "X_train.columns[feat_cols]"
   ]
  },
  {
   "cell_type": "code",
   "execution_count": 81,
   "id": "breeding-marsh",
   "metadata": {
    "id": "n1k9pzDX9WNH"
   },
   "outputs": [],
   "source": [
    "X_train_final = X_train[X_train.columns[feat_cols]]\n",
    "\n",
    "#Creating new x_test with the same variables that we selected for x_train\n",
    "X_test_final = X_test[X_train_final.columns]"
   ]
  },
  {
   "cell_type": "code",
   "execution_count": 82,
   "id": "arabic-syndication",
   "metadata": {
    "colab": {
     "base_uri": "https://localhost:8080/"
    },
    "id": "Q4zvNew39WNH",
    "outputId": "0c8e6e99-d171-4b23-9987-cd7d69146643"
   },
   "outputs": [
    {
     "name": "stderr",
     "output_type": "stream",
     "text": [
      "[Parallel(n_jobs=-1)]: Using backend LokyBackend with 8 concurrent workers.\n",
      "[Parallel(n_jobs=-1)]: Done   1 out of   1 | elapsed:    0.1s finished\n"
     ]
    },
    {
     "data": {
      "text/plain": [
       "LogisticRegression(max_iter=1000, n_jobs=-1, penalty='none', random_state=0,\n",
       "                   solver='newton-cg', verbose=True)"
      ]
     },
     "execution_count": 82,
     "metadata": {},
     "output_type": "execute_result"
    }
   ],
   "source": [
    "#Fitting logistic regession model\n",
    "\n",
    "logreg = LogisticRegression(solver='newton-cg',max_iter=1000,penalty='none',verbose=True,n_jobs=-1,random_state=0)\n",
    "\n",
    "# There are several optimizer, we are using optimizer called as 'newton-cg' with max_iter equal to 10000 \n",
    "# max_iter indicates number of iteration needed to converge\n",
    "\n",
    "logreg.fit(X_train_final, y_train)"
   ]
  },
  {
   "cell_type": "markdown",
   "id": "american-ending",
   "metadata": {
    "id": "_ofsssZJ9WNJ"
   },
   "source": [
    "### Let's Look at model performance"
   ]
  },
  {
   "cell_type": "code",
   "execution_count": 83,
   "id": "endless-cooperation",
   "metadata": {
    "colab": {
     "base_uri": "https://localhost:8080/",
     "height": 503
    },
    "id": "IyV8O5BY9WNJ",
    "outputId": "feeae71c-cea1-4e12-e89a-63742074bef5"
   },
   "outputs": [
    {
     "name": "stdout",
     "output_type": "stream",
     "text": [
      "Accuracy on training set :  0.8251140751140751\n",
      "Accuracy on test set :  0.8295629030607022\n",
      "Recall on training set :  0.9397204426324985\n",
      "Recall on test set :  0.935364238410596\n",
      "Precision on training set :  0.845384051136959\n",
      "Precision on test set :  0.8571428571428571\n",
      "F1 on training set :  0.8900595763459841\n",
      "F1 on test set :  0.894546836405092\n"
     ]
    },
    {
     "data": {
      "image/png": "[encoded data removed]",
      "text/plain": [
       "<Figure size 720x504 with 2 Axes>"
      ]
     },
     "metadata": {},
     "output_type": "display_data"
    }
   ],
   "source": [
    "scores_LR = get_metrics_score(logreg,X_train_final,X_test_final,y_train,y_test,flag=True)\n",
    "\n",
    "# creating confusion matrix\n",
    "make_confusion_matrix(logreg,X_test_final,y_test)"
   ]
  },
  {
   "cell_type": "markdown",
   "id": "swiss-candle",
   "metadata": {},
   "source": [
    "* Model is giving a generalized performance on training and test set.\n",
    "* With a fewer number of features, the model performance is comparable to the initial logistic regression model."
   ]
  },
  {
   "cell_type": "markdown",
   "id": "statutory-gasoline",
   "metadata": {},
   "source": [
    "### Model Performance Summary"
   ]
  },
  {
   "cell_type": "code",
   "execution_count": 84,
   "id": "excess-jackson",
   "metadata": {},
   "outputs": [],
   "source": [
    "# defining list of model\n",
    "models = [lg]\n",
    "\n",
    "# defining empty lists to add train and test results\n",
    "acc_train = []\n",
    "acc_test = []\n",
    "recall_train = []\n",
    "recall_test = []\n",
    "precision_train = []\n",
    "precision_test = []\n",
    "f1_train = []\n",
    "f1_test = []\n",
    "# looping through all the models to get the metrics score - Accuracy, Recall and Precision\n",
    "for model in models:\n",
    "    \n",
    "    j = get_metrics_score(model,X_train,X_test,y_train,y_test,flag=False)\n",
    "    k = get_metrics_score(model,X_train,X_test,y_train,y_test,threshold=optimal_threshold_auc_roc,flag=False)\n",
    "    l = get_metrics_score(model,X_train,X_test,y_train,y_test,threshold=optimal_threshold_curve,flag=False)\n",
    "    \n",
    "    #intial model\n",
    "    acc_train.append(j[0])\n",
    "    acc_test.append(j[1])\n",
    "    recall_train.append(j[2])\n",
    "    recall_test.append(j[3])\n",
    "    precision_train.append(j[4])\n",
    "    precision_test.append(j[5])\n",
    "    f1_train.append(j[6])\n",
    "    f1_test.append(j[7])\n",
    "    \n",
    "    #optimal threshold = 0.77  \n",
    "    acc_train.append(k[0])\n",
    "    acc_test.append(k[1])\n",
    "    recall_train.append(k[2])\n",
    "    recall_test.append(k[3])\n",
    "    precision_train.append(k[4])\n",
    "    precision_test.append(k[5])\n",
    "    f1_train.append(k[6])\n",
    "    f1_test.append(k[7])\n",
    "    \n",
    "    #optimal threshold = 0.58\n",
    "    acc_train.append(l[0])\n",
    "    acc_test.append(l[1])\n",
    "    recall_train.append(l[2])\n",
    "    recall_test.append(l[3])\n",
    "    precision_train.append(l[4])\n",
    "    precision_test.append(l[5])\n",
    "    f1_train.append(l[6])\n",
    "    f1_test.append(l[7])"
   ]
  },
  {
   "cell_type": "code",
   "execution_count": 85,
   "id": "superb-split",
   "metadata": {},
   "outputs": [],
   "source": [
    "# defining list of model\n",
    "models = [logreg]\n",
    "\n",
    "# looping through all the models list to get the metrics score - Accuracy, Recall, Precision, and F1 score\n",
    "for model in models:\n",
    "    \n",
    "    j = get_metrics_score(model,X_train_final,X_test_final,y_train,y_test,flag=False)\n",
    "    acc_train.append(j[0])\n",
    "    acc_test.append(j[1])\n",
    "    recall_train.append(j[2])\n",
    "    recall_test.append(j[3])\n",
    "    precision_train.append(j[4])\n",
    "    precision_test.append(j[5])\n",
    "    f1_train.append(j[6])\n",
    "    f1_test.append(j[7])"
   ]
  },
  {
   "cell_type": "code",
   "execution_count": 87,
   "id": "domestic-february",
   "metadata": {
    "colab": {
     "base_uri": "https://localhost:8080/",
     "height": 142
    },
    "id": "DIwgJKFN9WNT",
    "outputId": "56a1e921-ff1f-433b-8415-ceabcb5edea1"
   },
   "outputs": [
    {
     "data": {
      "text/html": [
       "<div>\n",
       "<style scoped>\n",
       "    .dataframe tbody tr th:only-of-type {\n",
       "        vertical-align: middle;\n",
       "    }\n",
       "\n",
       "    .dataframe tbody tr th {\n",
       "        vertical-align: top;\n",
       "    }\n",
       "\n",
       "    .dataframe thead th {\n",
       "        text-align: right;\n",
       "    }\n",
       "</style>\n",
       "<table border=\"1\" class=\"dataframe\">\n",
       "  <thead>\n",
       "    <tr style=\"text-align: right;\">\n",
       "      <th></th>\n",
       "      <th>Model</th>\n",
       "      <th>Train_Accuracy</th>\n",
       "      <th>Test_Accuracy</th>\n",
       "      <th>Train_Recall</th>\n",
       "      <th>Test_Recall</th>\n",
       "      <th>Train_Precision</th>\n",
       "      <th>Test_Precision</th>\n",
       "      <th>Train_F1_Score</th>\n",
       "      <th>Test_F1_Score</th>\n",
       "    </tr>\n",
       "  </thead>\n",
       "  <tbody>\n",
       "    <tr>\n",
       "      <th>0</th>\n",
       "      <td>Logistic Regression</td>\n",
       "      <td>0.833187</td>\n",
       "      <td>0.837854</td>\n",
       "      <td>0.922481</td>\n",
       "      <td>0.917219</td>\n",
       "      <td>0.865046</td>\n",
       "      <td>0.878361</td>\n",
       "      <td>0.892841</td>\n",
       "      <td>0.897369</td>\n",
       "    </tr>\n",
       "    <tr>\n",
       "      <th>1</th>\n",
       "      <td>Logistic Regression-0.77 Threshold</td>\n",
       "      <td>0.781766</td>\n",
       "      <td>0.781247</td>\n",
       "      <td>0.758824</td>\n",
       "      <td>0.758013</td>\n",
       "      <td>0.939908</td>\n",
       "      <td>0.948616</td>\n",
       "      <td>0.839714</td>\n",
       "      <td>0.842671</td>\n",
       "    </tr>\n",
       "    <tr>\n",
       "      <th>2</th>\n",
       "      <td>Logistic Regression-0.58 Threshold)</td>\n",
       "      <td>0.832222</td>\n",
       "      <td>0.828232</td>\n",
       "      <td>0.890798</td>\n",
       "      <td>0.879205</td>\n",
       "      <td>0.886975</td>\n",
       "      <td>0.896542</td>\n",
       "      <td>0.888882</td>\n",
       "      <td>0.887789</td>\n",
       "    </tr>\n",
       "    <tr>\n",
       "      <th>3</th>\n",
       "      <td>Logistic Regression (SFS - 8 variable)</td>\n",
       "      <td>0.825114</td>\n",
       "      <td>0.829563</td>\n",
       "      <td>0.939720</td>\n",
       "      <td>0.935364</td>\n",
       "      <td>0.845384</td>\n",
       "      <td>0.857143</td>\n",
       "      <td>0.890060</td>\n",
       "      <td>0.894547</td>\n",
       "    </tr>\n",
       "  </tbody>\n",
       "</table>\n",
       "</div>"
      ],
      "text/plain": [
       "                                    Model  Train_Accuracy  Test_Accuracy  \\\n",
       "0                     Logistic Regression        0.833187       0.837854   \n",
       "1      Logistic Regression-0.77 Threshold        0.781766       0.781247   \n",
       "2     Logistic Regression-0.58 Threshold)        0.832222       0.828232   \n",
       "3  Logistic Regression (SFS - 8 variable)        0.825114       0.829563   \n",
       "\n",
       "   Train_Recall  Test_Recall  Train_Precision  Test_Precision  Train_F1_Score  \\\n",
       "0      0.922481     0.917219         0.865046        0.878361        0.892841   \n",
       "1      0.758824     0.758013         0.939908        0.948616        0.839714   \n",
       "2      0.890798     0.879205         0.886975        0.896542        0.888882   \n",
       "3      0.939720     0.935364         0.845384        0.857143        0.890060   \n",
       "\n",
       "   Test_F1_Score  \n",
       "0       0.897369  \n",
       "1       0.842671  \n",
       "2       0.887789  \n",
       "3       0.894547  "
      ]
     },
     "execution_count": 87,
     "metadata": {},
     "output_type": "execute_result"
    }
   ],
   "source": [
    "comparison_frame = pd.DataFrame({'Model':['Logistic Regression','Logistic Regression-0.77 Threshold',\n",
    "                                          'Logistic Regression-0.58 Threshold)','Logistic Regression (SFS - 8 variable)'], \n",
    "                                          'Train_Accuracy': acc_train,'Test_Accuracy': acc_test,\n",
    "                                          'Train_Recall':recall_train,'Test_Recall':recall_test,\n",
    "                                          'Train_Precision':precision_train,'Test_Precision':precision_test,\n",
    "                                          'Train_F1_Score':f1_train,'Test_F1_Score':f1_test}) \n",
    "\n",
    "\n",
    "\n",
    "comparison_frame"
   ]
  },
  {
   "cell_type": "markdown",
   "id": "increasing-narrow",
   "metadata": {},
   "source": [
    "### Conclusion\n",
    "- We have been able to build a predictive model that can be used by the government to find the citizens having less than 50K salary with an f1_score of 0.89 on the training set and formulate policies accordingly. (Inital logistic regression model and Logistic regression with 8 features).\n",
    "- We found that education_no_of_years, workclass,education, marital_status_married, and occupation are important features.\n",
    "* Coefficient of age, fnlwgt, education_no_of_years,working_hours_per_week,sex_Male, some levels of education and marital_status, occupation, race and native country are negative, increase in these will lead to decrease in chances of a person having <=50K salary. \n",
    "* Coefficient all the levels of workclass,some levels of occupation, race, native country positive increase in these will lead to increase in chances of a person having <=50K salary."
   ]
  },
  {
   "cell_type": "markdown",
   "id": "greek-houston",
   "metadata": {
    "id": "1KnLoSD0mLQg"
   },
   "source": [
    "### Recommendations\n",
    "\n",
    "- The government should promote education among citizens, they should make policies to make education accessible to all, as we say in our analysis that people who have higher education are more likely to have a salary above 50,000 Dollars. \n",
    "- Working hours is one of the significant predictors of salary, The government should implement laws to ensure that people are paid fairly for their work and are not overworked for the increase in salaries. This would improve work-life balance.\n",
    "- People who invest more are more likely to have a salary above 50k, government should initiate investment schemes and facilitate ease of investment so that people can plan and invest in resources.\n",
    "- As we saw in our analysis that Asian-Pac-Islander and White people are paid more than other races, there should be reforms to ensure that the salary criterion of employees is independent of their race.\n",
    "- Reforms should be made for private-sector employees so that they are paid fairly for their work.\n",
    "- Policy formulated by the government should be considerate of equal pay and counter the pay gap that exists in society."
   ]
  },
  {
   "cell_type": "markdown",
   "id": "fourth-sierra",
   "metadata": {},
   "source": [
    "#### Things to try:\n",
    "* Perform more univariate and bivariate analysis to get a better understanding of distributions."
   ]
  }
 ],
 "metadata": {
  "kernelspec": {
   "display_name": "Python 3",
   "language": "python",
   "name": "python3"
  },
  "language_info": {
   "codemirror_mode": {
    "name": "ipython",
    "version": 3
   },
   "file_extension": ".py",
   "mimetype": "text/x-python",
   "name": "python",
   "nbconvert_exporter": "python",
   "pygments_lexer": "ipython3",
   "version": "3.8.5"
  }
 },
 "nbformat": 4,
 "nbformat_minor": 5
}
